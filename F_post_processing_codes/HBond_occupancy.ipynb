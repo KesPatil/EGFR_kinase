{
 "cells": [
  {
   "cell_type": "code",
   "execution_count": 3,
   "metadata": {},
   "outputs": [
    {
     "name": "stderr",
     "output_type": "stream",
     "text": [
      "/Users/owner/opt/anaconda3/lib/python3.8/site-packages/MDAnalysis/analysis/hbonds/hbond_analysis.py:342: DeprecationWarning: This module is deprecated as of MDAnalysis version 1.0.It will be removed in MDAnalysis version 2.0Please use MDAnalysis.analysis.hydrogenbonds.hbond_analysis instead.\n",
      "  warnings.warn(\n"
     ]
    }
   ],
   "source": [
    "\n",
    "import numpy as np\n",
    "from time import time\n",
    "import MDAnalysis as mda\n",
    "from MDAnalysis.tests.datafiles import XTC, GRO\n",
    "import MDAnalysis.analysis.rms\n",
    "from MDAnalysis.analysis.rms import rmsd\n",
    "from MDAnalysis.analysis import align\n",
    "import MDAnalysis.analysis.hbonds\n",
    "import matplotlib.pyplot as plt\n",
    "import itertools as it"
   ]
  },
  {
   "cell_type": "code",
   "execution_count": 2,
   "metadata": {},
   "outputs": [
    {
     "name": "stderr",
     "output_type": "stream",
     "text": [
      "/Users/owner/opt/anaconda3/lib/python3.8/site-packages/MDAnalysis/topology/base.py:203: DeprecationWarning: `np.int` is a deprecated alias for the builtin `int`. To silence this warning, use `int` by itself. Doing this will not modify any behavior and is safe. When replacing `np.int`, you may wish to use e.g. `np.int64` or `np.int32` to specify the precision. If you wish to review your current use, check the release note link for additional information.\n",
      "Deprecated in NumPy 1.20; for more details and guidance: https://numpy.org/devdocs/release/1.20.0-notes.html#deprecations\n",
      "  residx = np.zeros_like(criteria[0], dtype=np.int)\n",
      "/Users/owner/opt/anaconda3/lib/python3.8/site-packages/MDAnalysis/analysis/hbonds/hbond_analysis.py:576: DeprecationWarning: This class is deprecated as of MDAnalysis version 1.0 and will be removed in version 2.0.Please use MDAnalysis.analysis.hydrogenbonds.hbond_analysis.HydrogenBondAnalysis instead.\n",
      "  warnings.warn(\n",
      "/Users/owner/opt/anaconda3/lib/python3.8/site-packages/MDAnalysis/core/selection.py:521: DeprecationWarning: `np.bool` is a deprecated alias for the builtin `bool`. To silence this warning, use `bool` by itself. Doing this will not modify any behavior and is safe. If you specifically wanted the numpy scalar type, use `np.bool_` here.\n",
      "Deprecated in NumPy 1.20; for more details and guidance: https://numpy.org/devdocs/release/1.20.0-notes.html#deprecations\n",
      "  mask = np.zeros(len(group), dtype=np.bool)\n",
      "/Users/owner/opt/anaconda3/lib/python3.8/site-packages/MDAnalysis/lib/distances.py:712: DeprecationWarning: `np.int` is a deprecated alias for the builtin `int`. To silence this warning, use `int` by itself. Doing this will not modify any behavior and is safe. When replacing `np.int`, you may wish to use e.g. `np.int64` or `np.int32` to specify the precision. If you wish to review your current use, check the release note link for additional information.\n",
      "Deprecated in NumPy 1.20; for more details and guidance: https://numpy.org/devdocs/release/1.20.0-notes.html#deprecations\n",
      "  gridsearch = FastNS(max_cutoff, shiftconf, box=pseudobox, pbc=False)\n"
     ]
    }
   ],
   "source": [
    "\n",
    "import numpy as np\n",
    "from time import time\n",
    "import MDAnalysis as mda\n",
    "from MDAnalysis.tests.datafiles import XTC, GRO\n",
    "import MDAnalysis.analysis.rms\n",
    "from MDAnalysis.analysis.rms import rmsd\n",
    "from MDAnalysis.analysis import align\n",
    "import MDAnalysis.analysis.hbonds\n",
    "import matplotlib.pyplot as plt\n",
    "import itertools as it\n",
    "\n",
    "start_time = time()\n",
    "var_gro = '/Volumes/2KSPAT/Kumar/del747_750_insP/protein.gro' \n",
    "var_xtc = '/Volumes/2KSPAT/Kumar/del747_750_insP/protein_combined_del747_750_insP.xtc' \n",
    "\n",
    "u1 = mda.Universe(var_gro, var_xtc)\n",
    "\n",
    "\n",
    "\n",
    "\n",
    "h11= MDAnalysis.analysis.hbonds.HydrogenBondAnalysis(u1,'protein and name N','protein and name O',\n",
    "                                                     selection1_type='donor',\n",
    "                                                     update_selection1=False,\n",
    "                                                     update_selection2=False,\n",
    "                                                     detect_hydrogens='distance',\n",
    "                                                     distance = 3.2,\n",
    "                                                     angle = 150,\n",
    "                                                     distance_type=\"heavy\")\n",
    "h11.run()"
   ]
  },
  {
   "cell_type": "code",
   "execution_count": 14,
   "metadata": {},
   "outputs": [],
   "source": [
    "h11.count_by_type()"
   ]
  },
  {
   "cell_type": "code",
   "execution_count": 4,
   "metadata": {},
   "outputs": [
    {
     "data": {
      "text/plain": [
       "513"
      ]
     },
     "execution_count": 4,
     "metadata": {},
     "output_type": "execute_result"
    }
   ],
   "source": [
    "len(h11.count_by_type())"
   ]
  },
  {
   "cell_type": "code",
   "execution_count": 5,
   "metadata": {},
   "outputs": [
    {
     "data": {
      "text/plain": [
       "0.15413458654134587"
      ]
     },
     "execution_count": 5,
     "metadata": {},
     "output_type": "execute_result"
    }
   ],
   "source": [
    "h11.count_by_type()['frequency'][2]"
   ]
  },
  {
   "cell_type": "code",
   "execution_count": 6,
   "metadata": {},
   "outputs": [],
   "source": [
    "freq = h11.count_by_type()['frequency']\n",
    "donor_resid = h11.count_by_type()['donor_resid']\n"
   ]
  },
  {
   "cell_type": "code",
   "execution_count": 7,
   "metadata": {},
   "outputs": [],
   "source": [
    "fst = []\n",
    "s=0\n",
    "for i in range(0,len(h11.count_by_type())):\n",
    "    sum_freq = freq[i]\n",
    "\n",
    "    for j in range(i+1,len(h11.count_by_type())):\n",
    "        if donor_resid[i] == donor_resid[j]:\n",
    "            sum_freq = sum_freq + freq[i]\n",
    "    #sum_freq = sum_freq - h11.count_by_type()['frequency'][i]\n",
    "    lst = [donor_resid[i], sum_freq]\n",
    "    fst.append(lst)\n",
    "    \n",
    "    "
   ]
  },
  {
   "cell_type": "code",
   "execution_count": 8,
   "metadata": {},
   "outputs": [],
   "source": [
    "fst = np.array(fst)\n"
   ]
  },
  {
   "cell_type": "code",
   "execution_count": 13,
   "metadata": {},
   "outputs": [],
   "source": [
    "fst"
   ]
  },
  {
   "cell_type": "code",
   "execution_count": null,
   "metadata": {},
   "outputs": [],
   "source": []
  },
  {
   "cell_type": "code",
   "execution_count": 12,
   "metadata": {},
   "outputs": [],
   "source": [
    "fst"
   ]
  },
  {
   "cell_type": "code",
   "execution_count": 11,
   "metadata": {},
   "outputs": [],
   "source": [
    "dst = fst.tolist()\n",
    "#print([i[0] for i in dst])\n",
    "kst = [i[0] for i in dst]\n",
    "est = []\n",
    "gst = []\n",
    "h=0\n",
    "for i in kst:\n",
    "    \n",
    "    if i not in est:\n",
    "        mst = [i,fst[:,1][h]]\n",
    "        gst.append(mst)\n",
    "        est.append(i)\n",
    "    h = h +1\n",
    "    "
   ]
  },
  {
   "cell_type": "code",
   "execution_count": 11,
   "metadata": {},
   "outputs": [],
   "source": [
    "gst"
   ]
  },
  {
   "cell_type": "code",
   "execution_count": 13,
   "metadata": {},
   "outputs": [],
   "source": [
    "gst = np.array(gst)"
   ]
  },
  {
   "cell_type": "code",
   "execution_count": 10,
   "metadata": {},
   "outputs": [],
   "source": [
    "gst"
   ]
  },
  {
   "cell_type": "code",
   "execution_count": 15,
   "metadata": {},
   "outputs": [],
   "source": [
    "sorted_array = gst[np.argsort(gst[:, 0])]"
   ]
  },
  {
   "cell_type": "code",
   "execution_count": 9,
   "metadata": {},
   "outputs": [],
   "source": [
    "sorted_array"
   ]
  },
  {
   "cell_type": "code",
   "execution_count": 8,
   "metadata": {},
   "outputs": [],
   "source": [
    "sorted_array[:,1]"
   ]
  },
  {
   "cell_type": "code",
   "execution_count": 18,
   "metadata": {},
   "outputs": [
    {
     "data": {
      "text/plain": [
       "263"
      ]
     },
     "execution_count": 18,
     "metadata": {},
     "output_type": "execute_result"
    }
   ],
   "source": [
    "len(sorted_array)"
   ]
  },
  {
   "cell_type": "code",
   "execution_count": 7,
   "metadata": {},
   "outputs": [],
   "source": [
    "sorted_array"
   ]
  },
  {
   "cell_type": "code",
   "execution_count": null,
   "metadata": {},
   "outputs": [],
   "source": []
  },
  {
   "cell_type": "code",
   "execution_count": 20,
   "metadata": {},
   "outputs": [],
   "source": [
    "wst = []\n",
    "p = 0\n",
    "m =0\n",
    "for i in range(695,1011):\n",
    "    if i in sorted_array[:,0]:\n",
    "        pst = [sorted_array[m,0], sorted_array[m,1]]\n",
    "        wst.append(pst)\n",
    "        p = p+1\n",
    "        m = m+1\n",
    "    else:\n",
    "        pst = [i,0]\n",
    "        wst.append(pst)\n",
    "        p = p + 1\n",
    "    \n",
    "    "
   ]
  },
  {
   "cell_type": "code",
   "execution_count": 21,
   "metadata": {},
   "outputs": [],
   "source": [
    "wst = np.array(wst)\n"
   ]
  },
  {
   "cell_type": "code",
   "execution_count": 6,
   "metadata": {},
   "outputs": [],
   "source": [
    "wst"
   ]
  },
  {
   "cell_type": "code",
   "execution_count": null,
   "metadata": {},
   "outputs": [],
   "source": [
    "#plt.bar(sorted_array[:,0], sorted_array[:,1],width=5,edgecolor = \"black\")  # solid\n",
    "plt.figure(figsize=(20,4))\n",
    "plt.plot(wst[:,0], wst[:,1],'--o',color='gray', markerfacecolor='lightgray', alpha=0.5)\n",
    "plt.scatter(sorted_array[:,0], sorted_array[:,1],facecolor='gray')\n",
    "plt.xlabel('Residue',fontsize=18)\n",
    "plt.xticks(fontsize=20)\n",
    "plt.yticks(fontsize=15)\n",
    "plt.ylabel('H-bond occupancy',fontsize=18)\n",
    "plt.title('EGFR WT',fontsize=18)\n",
    "plt.savefig('1_EGFR_del746_750_H_bond_occupancy.png', bbox_inches = 'tight', dpi = 300)\n",
    "plt.show()"
   ]
  },
  {
   "cell_type": "code",
   "execution_count": null,
   "metadata": {},
   "outputs": [],
   "source": []
  },
  {
   "cell_type": "code",
   "execution_count": null,
   "metadata": {},
   "outputs": [],
   "source": [
    "q = sorted_array[:,0]\n",
    "q = 0"
   ]
  },
  {
   "cell_type": "code",
   "execution_count": null,
   "metadata": {},
   "outputs": [],
   "source": [
    "q = [sorted_array[i][0] for i in range (0,len(sorted_array),3)]\n",
    "d = [sorted_array[i][1] for i in range (0,len(sorted_array),3)]"
   ]
  },
  {
   "cell_type": "code",
   "execution_count": null,
   "metadata": {},
   "outputs": [],
   "source": [
    "q"
   ]
  },
  {
   "cell_type": "code",
   "execution_count": null,
   "metadata": {},
   "outputs": [],
   "source": [
    "d"
   ]
  },
  {
   "cell_type": "code",
   "execution_count": null,
   "metadata": {},
   "outputs": [],
   "source": [
    "plt.figure(figsize=(10,4))\n",
    "plt.plot(q, d,'--o',markerfacecolor='red')\n",
    "plt.xlabel('Residue')\n",
    "plt.ylabel('H-bond occupancy')\n",
    "plt.title('EGFR WT')\n",
    "plt.savefig('2_EGFR_WT_H_bond_occupancy.png', bbox_inches = 'tight', dpi = 300)\n",
    "plt.show()"
   ]
  },
  {
   "cell_type": "code",
   "execution_count": null,
   "metadata": {},
   "outputs": [],
   "source": [
    "sorted_array[2][0]"
   ]
  },
  {
   "cell_type": "code",
   "execution_count": null,
   "metadata": {},
   "outputs": [],
   "source": [
    "plt.figure(figsize=(10,4))\n",
    "plt.plot(q, d,'--o',markerfacecolor='red')\n",
    "plt.xlabel('Residue')\n",
    "plt.ylabel('H-bond occupancy')\n",
    "plt.title('EGFR WT')\n",
    "plt.savefig('3_EGFR_WT_H_bond_occupancy.png', bbox_inches = 'tight', dpi = 300)\n",
    "plt.show()"
   ]
  },
  {
   "cell_type": "code",
   "execution_count": 23,
   "metadata": {},
   "outputs": [],
   "source": [
    " np.savetxt('/Volumes/2KSPAT/Kumar/EGFR_del747_750_insP.txt',wst)"
   ]
  },
  {
   "cell_type": "code",
   "execution_count": null,
   "metadata": {},
   "outputs": [],
   "source": []
  },
  {
   "cell_type": "code",
   "execution_count": null,
   "metadata": {},
   "outputs": [],
   "source": [
    "len(wst)"
   ]
  },
  {
   "cell_type": "code",
   "execution_count": null,
   "metadata": {},
   "outputs": [],
   "source": [
    "sorted_array"
   ]
  },
  {
   "cell_type": "markdown",
   "metadata": {},
   "source": [
    "## SASA"
   ]
  },
  {
   "cell_type": "code",
   "execution_count": 4,
   "metadata": {},
   "outputs": [],
   "source": [
    "with open('/Volumes/2KSPAT/Kumar/del747_750_insP/atom_area.xvg') as f:\n",
    "    \n",
    "    lines = f.readlines()\n",
    "   \n",
    "\n",
    "new_lines = []    \n",
    "# Get rid of empty lines\n",
    "for line in lines:\n",
    "    # Strip whitespace, should leave nothing if empty line was just \"\\n\"\n",
    "    if not line.strip():\n",
    "        continue\n",
    "    # We got something, save it\n",
    "    else:\n",
    "        new_lines.append(line)\n",
    "        \n",
    "lines = new_lines[23:]\n",
    "\n",
    "\n",
    "y1 = [] # stores the active coordinates\n",
    "y2 = []\n",
    "y3 = []\n",
    "for i in range(0,len(lines)):\n",
    "    \n",
    "    words = lines[i].split()\n",
    "    y1.append(words[0]) \n",
    "    y2.append(words[1]) \n",
    "    y3.append(words[2]) "
   ]
  },
  {
   "cell_type": "code",
   "execution_count": 5,
   "metadata": {},
   "outputs": [],
   "source": [
    "y1  = np.array(y1)\n",
    "y2  = np.array(y2)\n",
    "y3  = np.array(y3)"
   ]
  },
  {
   "cell_type": "code",
   "execution_count": 6,
   "metadata": {},
   "outputs": [
    {
     "data": {
      "text/plain": [
       "array(['0.012', '0.026', '0.024', ..., '0.018', '0.025', '0.006'],\n",
       "      dtype='<U5')"
      ]
     },
     "execution_count": 6,
     "metadata": {},
     "output_type": "execute_result"
    }
   ],
   "source": [
    "y3"
   ]
  },
  {
   "cell_type": "code",
   "execution_count": 7,
   "metadata": {},
   "outputs": [],
   "source": [
    "with open('/Volumes/2KSPAT/Kumar/del747_750_insP/protein.gro') as f:\n",
    "    \n",
    "    lines = f.readlines()\n",
    "   \n",
    "\n",
    "new_lines = []    \n",
    "# Get rid of empty lines\n",
    "for line in lines:\n",
    "    # Strip whitespace, should leave nothing if empty line was just \"\\n\"\n",
    "    if not line.strip():\n",
    "        continue\n",
    "    # We got something, save it\n",
    "    else:\n",
    "        new_lines.append(line)\n",
    "        \n",
    "lines = new_lines[2:]\n",
    "\n",
    "\n",
    "y4 = [] # stores the active coordinates\n",
    "y5 = []\n",
    "y6 = []\n",
    "for i in range(0,len(lines)):\n",
    "    \n",
    "    words = lines[i].split()\n",
    "    y4.append(words[1]) \n",
    "    y5.append(words[2]) \n",
    "    y6.append(words[0])"
   ]
  },
  {
   "cell_type": "code",
   "execution_count": 8,
   "metadata": {},
   "outputs": [],
   "source": [
    "y4.pop()\n",
    "y5.pop()\n",
    "y6.pop()\n",
    "y4  = np.array(y4)\n",
    "y5  = np.array(y5)\n",
    "y6  = np.array(y6)\n"
   ]
  },
  {
   "cell_type": "code",
   "execution_count": 9,
   "metadata": {},
   "outputs": [
    {
     "data": {
      "text/plain": [
       "array(['695GLY', '695GLY', '695GLY', ..., '749PRO', '749PRO', '751THR'],\n",
       "      dtype='<U7')"
      ]
     },
     "execution_count": 9,
     "metadata": {},
     "output_type": "execute_result"
    }
   ],
   "source": [
    "y6"
   ]
  },
  {
   "cell_type": "code",
   "execution_count": 5,
   "metadata": {},
   "outputs": [],
   "source": [
    "y7 = []\n",
    "for i in range(0,len(y6)):\n",
    "    \n",
    "    num = \"\"\n",
    "    for cq in y6[i]:\n",
    "        if cq.isdigit():\n",
    "            num = num + cq\n",
    "    y7.append(num) \n",
    "y7"
   ]
  },
  {
   "cell_type": "code",
   "execution_count": 11,
   "metadata": {},
   "outputs": [],
   "source": [
    "# make separate lists\n",
    "y8 = []\n",
    "s_N = []\n",
    "s_H = []\n",
    "for i in range(0,len(y7)):\n",
    "    if y4[i]== 'N':\n",
    "        d_N = [y4[i], y7[i], y2[i], y3[i]] # [Atom name, residue number, sasa_mean, sasa_stddev]\n",
    "        s_N.append(d_N)\n",
    "    if y4[i]== 'H':\n",
    "        d_H = [y4[i], y7[i], y2[i], y3[i]] # [Atom name, residue number, sasa_mean, sasa_stddev]\n",
    "        s_H.append(d_H)"
   ]
  },
  {
   "cell_type": "code",
   "execution_count": 4,
   "metadata": {},
   "outputs": [],
   "source": [
    "s_N = np.array(s_N)\n",
    "s_N"
   ]
  },
  {
   "cell_type": "code",
   "execution_count": 3,
   "metadata": {},
   "outputs": [],
   "source": [
    "s_H = np.array(s_H)\n",
    "    \n",
    "s_H "
   ]
  },
  {
   "cell_type": "code",
   "execution_count": 14,
   "metadata": {},
   "outputs": [
    {
     "data": {
      "text/plain": [
       "313"
      ]
     },
     "execution_count": 14,
     "metadata": {},
     "output_type": "execute_result"
    }
   ],
   "source": [
    "len(s_N)"
   ]
  },
  {
   "cell_type": "code",
   "execution_count": 15,
   "metadata": {},
   "outputs": [
    {
     "data": {
      "text/plain": [
       "294"
      ]
     },
     "execution_count": 15,
     "metadata": {},
     "output_type": "execute_result"
    }
   ],
   "source": [
    "len(s_H)"
   ]
  },
  {
   "cell_type": "code",
   "execution_count": 16,
   "metadata": {},
   "outputs": [
    {
     "data": {
      "text/plain": [
       "'698'"
      ]
     },
     "execution_count": 16,
     "metadata": {},
     "output_type": "execute_result"
    }
   ],
   "source": [
    "s_N[3,1]"
   ]
  },
  {
   "cell_type": "code",
   "execution_count": 17,
   "metadata": {},
   "outputs": [
    {
     "data": {
      "text/plain": [
       "'N'"
      ]
     },
     "execution_count": 17,
     "metadata": {},
     "output_type": "execute_result"
    }
   ],
   "source": [
    "s_N[0,0]"
   ]
  },
  {
   "cell_type": "code",
   "execution_count": 18,
   "metadata": {},
   "outputs": [],
   "source": [
    "# combine N and H as per residue numbers\n",
    "s_NH = []\n",
    "for i in range(0,len(s_N)):\n",
    "        \n",
    "    if s_N[i,1] in s_H[:,1] and i<len(s_H):\n",
    "        d_NH = [s_N[i,0], s_N[i,1], s_N[i,2], s_N[i,3],s_H[i,0],s_H[i,2], s_H[i,3]]\n",
    "        s_NH.append(d_NH)\n",
    "        \n",
    "    else:\n",
    "        d_NH = [s_N[i,0], s_N[i,1], s_N[i,2], s_N[i,3],'H','0','0']\n",
    "        s_NH.append(d_NH)"
   ]
  },
  {
   "cell_type": "code",
   "execution_count": 2,
   "metadata": {},
   "outputs": [],
   "source": [
    "s_NH"
   ]
  },
  {
   "cell_type": "code",
   "execution_count": 20,
   "metadata": {},
   "outputs": [],
   "source": [
    "sasa_NH = []\n",
    "for i in range(0,len(s_NH)):\n",
    "    s_mean = float(s_NH[i][2]) + float(s_NH[i][5])\n",
    "    s_std  = np.sqrt(float(s_NH[i][3])**2 + float(s_NH[i][6])**2)\n",
    "    sd_NH = [float(s_NH[i][1]), s_mean ,  s_std ]\n",
    "    sasa_NH.append(sd_NH)"
   ]
  },
  {
   "cell_type": "code",
   "execution_count": 21,
   "metadata": {},
   "outputs": [],
   "source": [
    "sasa_NH = np.array(sasa_NH)"
   ]
  },
  {
   "cell_type": "code",
   "execution_count": 1,
   "metadata": {},
   "outputs": [],
   "source": [
    "sasa_NH"
   ]
  },
  {
   "cell_type": "code",
   "execution_count": 23,
   "metadata": {},
   "outputs": [],
   "source": [
    "np.savetxt('/Volumes/2KSPAT/Kumar/sasa_NH_EGFR_del747_750_insP.txt',sasa_NH)"
   ]
  },
  {
   "cell_type": "code",
   "execution_count": null,
   "metadata": {},
   "outputs": [],
   "source": []
  }
 ],
 "metadata": {
  "kernelspec": {
   "display_name": "Python 3",
   "language": "python",
   "name": "python3"
  },
  "language_info": {
   "codemirror_mode": {
    "name": "ipython",
    "version": 3
   },
   "file_extension": ".py",
   "mimetype": "text/x-python",
   "name": "python",
   "nbconvert_exporter": "python",
   "pygments_lexer": "ipython3",
   "version": "3.9.13"
  }
 },
 "nbformat": 4,
 "nbformat_minor": 4
}
