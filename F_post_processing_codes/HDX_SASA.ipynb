{
 "cells": [
  {
   "cell_type": "code",
   "execution_count": 1,
   "metadata": {},
   "outputs": [
    {
     "name": "stderr",
     "output_type": "stream",
     "text": [
      "/Users/owner/opt/anaconda3/lib/python3.8/site-packages/MDAnalysis/analysis/hbonds/hbond_analysis.py:342: DeprecationWarning: This module is deprecated as of MDAnalysis version 1.0.It will be removed in MDAnalysis version 2.0Please use MDAnalysis.analysis.hydrogenbonds.hbond_analysis instead.\n",
      "  warnings.warn(\n"
     ]
    }
   ],
   "source": [
    "import numpy as np\n",
    "from time import time\n",
    "import MDAnalysis as mda\n",
    "from MDAnalysis.tests.datafiles import XTC, GRO\n",
    "import MDAnalysis.analysis.rms\n",
    "from MDAnalysis.analysis.rms import rmsd\n",
    "from MDAnalysis.analysis import align\n",
    "import MDAnalysis.analysis.hbonds\n",
    "import matplotlib.pyplot as plt\n",
    "import itertools as it\n",
    "import pandas as pd"
   ]
  },
  {
   "cell_type": "code",
   "execution_count": 2,
   "metadata": {},
   "outputs": [],
   "source": [
    "df = pd.read_excel('/Volumes/2KSPAT/Kumar/EGFR_del747_750_insP.xlsx')"
   ]
  },
  {
   "cell_type": "code",
   "execution_count": 3,
   "metadata": {},
   "outputs": [
    {
     "data": {
      "text/html": [
       "<div>\n",
       "<style scoped>\n",
       "    .dataframe tbody tr th:only-of-type {\n",
       "        vertical-align: middle;\n",
       "    }\n",
       "\n",
       "    .dataframe tbody tr th {\n",
       "        vertical-align: top;\n",
       "    }\n",
       "\n",
       "    .dataframe thead th {\n",
       "        text-align: right;\n",
       "    }\n",
       "</style>\n",
       "<table border=\"1\" class=\"dataframe\">\n",
       "  <thead>\n",
       "    <tr style=\"text-align: right;\">\n",
       "      <th></th>\n",
       "      <th>peptide</th>\n",
       "      <th>median residue number</th>\n",
       "      <th>mean</th>\n",
       "      <th>SD</th>\n",
       "    </tr>\n",
       "  </thead>\n",
       "  <tbody>\n",
       "    <tr>\n",
       "      <th>0</th>\n",
       "      <td>LRILKETE</td>\n",
       "      <td>707.5</td>\n",
       "      <td>55.160347</td>\n",
       "      <td>4.460996</td>\n",
       "    </tr>\n",
       "    <tr>\n",
       "      <th>1</th>\n",
       "      <td>LRILKETEF</td>\n",
       "      <td>708.0</td>\n",
       "      <td>47.615058</td>\n",
       "      <td>3.818857</td>\n",
       "    </tr>\n",
       "    <tr>\n",
       "      <th>2</th>\n",
       "      <td>LRILKETEFKKIKVLGSGA</td>\n",
       "      <td>713.0</td>\n",
       "      <td>48.195507</td>\n",
       "      <td>1.124384</td>\n",
       "    </tr>\n",
       "    <tr>\n",
       "      <th>3</th>\n",
       "      <td>LRILKETEFKKIKVLGSGAF</td>\n",
       "      <td>713.5</td>\n",
       "      <td>48.184234</td>\n",
       "      <td>0.949346</td>\n",
       "    </tr>\n",
       "    <tr>\n",
       "      <th>4</th>\n",
       "      <td>RILKETE</td>\n",
       "      <td>708.0</td>\n",
       "      <td>56.876976</td>\n",
       "      <td>1.165442</td>\n",
       "    </tr>\n",
       "    <tr>\n",
       "      <th>...</th>\n",
       "      <td>...</td>\n",
       "      <td>...</td>\n",
       "      <td>...</td>\n",
       "      <td>...</td>\n",
       "    </tr>\n",
       "    <tr>\n",
       "      <th>57</th>\n",
       "      <td>DEEDM</td>\n",
       "      <td>1005.0</td>\n",
       "      <td>92.522076</td>\n",
       "      <td>1.046401</td>\n",
       "    </tr>\n",
       "    <tr>\n",
       "      <th>58</th>\n",
       "      <td>DDVVDADE</td>\n",
       "      <td>1011.5</td>\n",
       "      <td>93.521982</td>\n",
       "      <td>2.940600</td>\n",
       "    </tr>\n",
       "    <tr>\n",
       "      <th>59</th>\n",
       "      <td>DVVDADE</td>\n",
       "      <td>1012.0</td>\n",
       "      <td>95.532127</td>\n",
       "      <td>3.419720</td>\n",
       "    </tr>\n",
       "    <tr>\n",
       "      <th>60</th>\n",
       "      <td>VVDADE</td>\n",
       "      <td>1012.5</td>\n",
       "      <td>96.589027</td>\n",
       "      <td>1.351019</td>\n",
       "    </tr>\n",
       "    <tr>\n",
       "      <th>61</th>\n",
       "      <td>YLIPQQG</td>\n",
       "      <td>1019.0</td>\n",
       "      <td>97.819026</td>\n",
       "      <td>1.908828</td>\n",
       "    </tr>\n",
       "  </tbody>\n",
       "</table>\n",
       "<p>62 rows × 4 columns</p>\n",
       "</div>"
      ],
      "text/plain": [
       "                 peptide  median residue number       mean        SD\n",
       "0               LRILKETE                  707.5  55.160347  4.460996\n",
       "1              LRILKETEF                  708.0  47.615058  3.818857\n",
       "2    LRILKETEFKKIKVLGSGA                  713.0  48.195507  1.124384\n",
       "3   LRILKETEFKKIKVLGSGAF                  713.5  48.184234  0.949346\n",
       "4                RILKETE                  708.0  56.876976  1.165442\n",
       "..                   ...                    ...        ...       ...\n",
       "57                 DEEDM                 1005.0  92.522076  1.046401\n",
       "58              DDVVDADE                 1011.5  93.521982  2.940600\n",
       "59               DVVDADE                 1012.0  95.532127  3.419720\n",
       "60                VVDADE                 1012.5  96.589027  1.351019\n",
       "61               YLIPQQG                 1019.0  97.819026  1.908828\n",
       "\n",
       "[62 rows x 4 columns]"
      ]
     },
     "execution_count": 3,
     "metadata": {},
     "output_type": "execute_result"
    }
   ],
   "source": [
    "df"
   ]
  },
  {
   "cell_type": "code",
   "execution_count": 33,
   "metadata": {},
   "outputs": [
    {
     "data": {
      "text/html": [
       "<div>\n",
       "<style scoped>\n",
       "    .dataframe tbody tr th:only-of-type {\n",
       "        vertical-align: middle;\n",
       "    }\n",
       "\n",
       "    .dataframe tbody tr th {\n",
       "        vertical-align: top;\n",
       "    }\n",
       "\n",
       "    .dataframe thead th {\n",
       "        text-align: right;\n",
       "    }\n",
       "</style>\n",
       "<table border=\"1\" class=\"dataframe\">\n",
       "  <thead>\n",
       "    <tr style=\"text-align: right;\">\n",
       "      <th></th>\n",
       "      <th>peptide</th>\n",
       "      <th>median residue number</th>\n",
       "      <th>mean</th>\n",
       "      <th>SD</th>\n",
       "    </tr>\n",
       "  </thead>\n",
       "  <tbody>\n",
       "    <tr>\n",
       "      <th>0</th>\n",
       "      <td>LRILKETE</td>\n",
       "      <td>707.5</td>\n",
       "      <td>55.160347</td>\n",
       "      <td>4.460996</td>\n",
       "    </tr>\n",
       "    <tr>\n",
       "      <th>1</th>\n",
       "      <td>LRILKETEF</td>\n",
       "      <td>708.0</td>\n",
       "      <td>47.615058</td>\n",
       "      <td>3.818857</td>\n",
       "    </tr>\n",
       "    <tr>\n",
       "      <th>2</th>\n",
       "      <td>LRILKETEFKKIKVLGSGA</td>\n",
       "      <td>713.0</td>\n",
       "      <td>48.195507</td>\n",
       "      <td>1.124384</td>\n",
       "    </tr>\n",
       "    <tr>\n",
       "      <th>3</th>\n",
       "      <td>LRILKETEFKKIKVLGSGAF</td>\n",
       "      <td>713.5</td>\n",
       "      <td>48.184234</td>\n",
       "      <td>0.949346</td>\n",
       "    </tr>\n",
       "    <tr>\n",
       "      <th>4</th>\n",
       "      <td>RILKETE</td>\n",
       "      <td>708.0</td>\n",
       "      <td>56.876976</td>\n",
       "      <td>1.165442</td>\n",
       "    </tr>\n",
       "    <tr>\n",
       "      <th>5</th>\n",
       "      <td>FKKIKVLGSGAF</td>\n",
       "      <td>717.5</td>\n",
       "      <td>63.372683</td>\n",
       "      <td>2.092084</td>\n",
       "    </tr>\n",
       "    <tr>\n",
       "      <th>6</th>\n",
       "      <td>KKIKVLGSGAF</td>\n",
       "      <td>718.0</td>\n",
       "      <td>64.426801</td>\n",
       "      <td>1.631000</td>\n",
       "    </tr>\n",
       "    <tr>\n",
       "      <th>7</th>\n",
       "      <td>GTVYKGLWIPEGEKVKIPVA</td>\n",
       "      <td>733.5</td>\n",
       "      <td>28.016323</td>\n",
       "      <td>0.671361</td>\n",
       "    </tr>\n",
       "    <tr>\n",
       "      <th>8</th>\n",
       "      <td>ASVDNPHVCRL</td>\n",
       "      <td>772.0</td>\n",
       "      <td>35.874272</td>\n",
       "      <td>3.409708</td>\n",
       "    </tr>\n",
       "    <tr>\n",
       "      <th>9</th>\n",
       "      <td>SVDNPHVCRL</td>\n",
       "      <td>772.5</td>\n",
       "      <td>34.833629</td>\n",
       "      <td>2.648338</td>\n",
       "    </tr>\n",
       "    <tr>\n",
       "      <th>10</th>\n",
       "      <td>DNPHVCRL</td>\n",
       "      <td>773.5</td>\n",
       "      <td>28.864821</td>\n",
       "      <td>3.461820</td>\n",
       "    </tr>\n",
       "    <tr>\n",
       "      <th>11</th>\n",
       "      <td>LGICL</td>\n",
       "      <td>780.0</td>\n",
       "      <td>17.008527</td>\n",
       "      <td>5.641093</td>\n",
       "    </tr>\n",
       "    <tr>\n",
       "      <th>12</th>\n",
       "      <td>TSTVQL</td>\n",
       "      <td>785.5</td>\n",
       "      <td>28.107292</td>\n",
       "      <td>3.013976</td>\n",
       "    </tr>\n",
       "    <tr>\n",
       "      <th>13</th>\n",
       "      <td>TSTVQLI</td>\n",
       "      <td>786.0</td>\n",
       "      <td>44.480294</td>\n",
       "      <td>0.906271</td>\n",
       "    </tr>\n",
       "    <tr>\n",
       "      <th>14</th>\n",
       "      <td>LDYVREHKDNIGSQ</td>\n",
       "      <td>805.5</td>\n",
       "      <td>46.680548</td>\n",
       "      <td>0.593639</td>\n",
       "    </tr>\n",
       "    <tr>\n",
       "      <th>15</th>\n",
       "      <td>LLNWCVQIAKGMN</td>\n",
       "      <td>820.0</td>\n",
       "      <td>34.486531</td>\n",
       "      <td>1.489658</td>\n",
       "    </tr>\n",
       "    <tr>\n",
       "      <th>16</th>\n",
       "      <td>LNWCVQ</td>\n",
       "      <td>817.5</td>\n",
       "      <td>12.991521</td>\n",
       "      <td>3.441738</td>\n",
       "    </tr>\n",
       "    <tr>\n",
       "      <th>17</th>\n",
       "      <td>CVQIAKGMN</td>\n",
       "      <td>822.0</td>\n",
       "      <td>5.891360</td>\n",
       "      <td>1.059795</td>\n",
       "    </tr>\n",
       "    <tr>\n",
       "      <th>18</th>\n",
       "      <td>IAKGMN</td>\n",
       "      <td>823.5</td>\n",
       "      <td>14.679609</td>\n",
       "      <td>0.224640</td>\n",
       "    </tr>\n",
       "    <tr>\n",
       "      <th>19</th>\n",
       "      <td>IAKGMNY</td>\n",
       "      <td>824.0</td>\n",
       "      <td>13.939718</td>\n",
       "      <td>0.702069</td>\n",
       "    </tr>\n",
       "    <tr>\n",
       "      <th>20</th>\n",
       "      <td>YLEDRRLVHRDLAA</td>\n",
       "      <td>833.5</td>\n",
       "      <td>26.598100</td>\n",
       "      <td>4.945625</td>\n",
       "    </tr>\n",
       "    <tr>\n",
       "      <th>21</th>\n",
       "      <td>YLEDRRLVHRDLAARN</td>\n",
       "      <td>834.5</td>\n",
       "      <td>29.798020</td>\n",
       "      <td>4.068923</td>\n",
       "    </tr>\n",
       "    <tr>\n",
       "      <th>22</th>\n",
       "      <td>YLEDRRLVHRDLAARNVL</td>\n",
       "      <td>835.5</td>\n",
       "      <td>30.510826</td>\n",
       "      <td>7.321513</td>\n",
       "    </tr>\n",
       "    <tr>\n",
       "      <th>23</th>\n",
       "      <td>LEDRRLVHRDLAARNVL</td>\n",
       "      <td>836.0</td>\n",
       "      <td>27.511850</td>\n",
       "      <td>5.678125</td>\n",
       "    </tr>\n",
       "    <tr>\n",
       "      <th>24</th>\n",
       "      <td>RRLVHRDLAA</td>\n",
       "      <td>835.5</td>\n",
       "      <td>25.630269</td>\n",
       "      <td>4.094161</td>\n",
       "    </tr>\n",
       "    <tr>\n",
       "      <th>25</th>\n",
       "      <td>RRLVHRDLAARNVL</td>\n",
       "      <td>837.5</td>\n",
       "      <td>29.926406</td>\n",
       "      <td>6.646816</td>\n",
       "    </tr>\n",
       "    <tr>\n",
       "      <th>26</th>\n",
       "      <td>VKTPQHVKITDFGL</td>\n",
       "      <td>851.5</td>\n",
       "      <td>30.181007</td>\n",
       "      <td>5.768274</td>\n",
       "    </tr>\n",
       "    <tr>\n",
       "      <th>27</th>\n",
       "      <td>AKLLGAEE</td>\n",
       "      <td>862.5</td>\n",
       "      <td>71.108834</td>\n",
       "      <td>1.024674</td>\n",
       "    </tr>\n",
       "    <tr>\n",
       "      <th>28</th>\n",
       "      <td>AKLLGAEEKEYHAEGGKVPIKWMAL</td>\n",
       "      <td>871.0</td>\n",
       "      <td>67.699185</td>\n",
       "      <td>0.343205</td>\n",
       "    </tr>\n",
       "    <tr>\n",
       "      <th>29</th>\n",
       "      <td>KEYHAEGGKVPIKWMAL</td>\n",
       "      <td>875.0</td>\n",
       "      <td>46.392769</td>\n",
       "      <td>0.930784</td>\n",
       "    </tr>\n",
       "    <tr>\n",
       "      <th>30</th>\n",
       "      <td>YHAEGGKVPIKWMAL</td>\n",
       "      <td>876.0</td>\n",
       "      <td>48.102570</td>\n",
       "      <td>3.464061</td>\n",
       "    </tr>\n",
       "    <tr>\n",
       "      <th>31</th>\n",
       "      <td>ESILHRIYTHQSDV</td>\n",
       "      <td>890.5</td>\n",
       "      <td>19.796073</td>\n",
       "      <td>1.383087</td>\n",
       "    </tr>\n",
       "    <tr>\n",
       "      <th>32</th>\n",
       "      <td>ESILHRIYTHQSDVWS</td>\n",
       "      <td>891.5</td>\n",
       "      <td>15.748267</td>\n",
       "      <td>0.967980</td>\n",
       "    </tr>\n",
       "    <tr>\n",
       "      <th>33</th>\n",
       "      <td>HRIYTHQSDV</td>\n",
       "      <td>892.5</td>\n",
       "      <td>26.734996</td>\n",
       "      <td>2.826596</td>\n",
       "    </tr>\n",
       "    <tr>\n",
       "      <th>34</th>\n",
       "      <td>HRIYTHQSDVWS</td>\n",
       "      <td>893.5</td>\n",
       "      <td>17.398001</td>\n",
       "      <td>1.713266</td>\n",
       "    </tr>\n",
       "    <tr>\n",
       "      <th>35</th>\n",
       "      <td>WSYGVT</td>\n",
       "      <td>900.5</td>\n",
       "      <td>3.919593</td>\n",
       "      <td>1.775747</td>\n",
       "    </tr>\n",
       "    <tr>\n",
       "      <th>36</th>\n",
       "      <td>VWELMT</td>\n",
       "      <td>906.5</td>\n",
       "      <td>4.881347</td>\n",
       "      <td>0.602296</td>\n",
       "    </tr>\n",
       "    <tr>\n",
       "      <th>37</th>\n",
       "      <td>LMTFGSKPYDGIPASE</td>\n",
       "      <td>914.5</td>\n",
       "      <td>48.115377</td>\n",
       "      <td>1.694954</td>\n",
       "    </tr>\n",
       "    <tr>\n",
       "      <th>38</th>\n",
       "      <td>MTFGSKPYDGIPASE</td>\n",
       "      <td>915.0</td>\n",
       "      <td>54.140948</td>\n",
       "      <td>4.057383</td>\n",
       "    </tr>\n",
       "    <tr>\n",
       "      <th>39</th>\n",
       "      <td>FGSKPYDGIPASE</td>\n",
       "      <td>916.0</td>\n",
       "      <td>62.063862</td>\n",
       "      <td>0.047488</td>\n",
       "    </tr>\n",
       "    <tr>\n",
       "      <th>40</th>\n",
       "      <td>ISSIL</td>\n",
       "      <td>925.0</td>\n",
       "      <td>43.752815</td>\n",
       "      <td>7.636126</td>\n",
       "    </tr>\n",
       "    <tr>\n",
       "      <th>41</th>\n",
       "      <td>ISSILEKGERLPQPPICT</td>\n",
       "      <td>931.5</td>\n",
       "      <td>20.745748</td>\n",
       "      <td>1.089754</td>\n",
       "    </tr>\n",
       "    <tr>\n",
       "      <th>42</th>\n",
       "      <td>ILEKGERLPQPPICT</td>\n",
       "      <td>933.0</td>\n",
       "      <td>27.704239</td>\n",
       "      <td>0.991958</td>\n",
       "    </tr>\n",
       "    <tr>\n",
       "      <th>43</th>\n",
       "      <td>EKGERLPQPPICT</td>\n",
       "      <td>934.0</td>\n",
       "      <td>29.896983</td>\n",
       "      <td>6.106874</td>\n",
       "    </tr>\n",
       "    <tr>\n",
       "      <th>44</th>\n",
       "      <td>IDVYM</td>\n",
       "      <td>943.0</td>\n",
       "      <td>1.775476</td>\n",
       "      <td>0.064343</td>\n",
       "    </tr>\n",
       "    <tr>\n",
       "      <th>45</th>\n",
       "      <td>IMVKCWM</td>\n",
       "      <td>949.0</td>\n",
       "      <td>2.924889</td>\n",
       "      <td>0.241322</td>\n",
       "    </tr>\n",
       "    <tr>\n",
       "      <th>46</th>\n",
       "      <td>VKCWMIDADSRPKFRE</td>\n",
       "      <td>955.5</td>\n",
       "      <td>35.983188</td>\n",
       "      <td>2.564871</td>\n",
       "    </tr>\n",
       "    <tr>\n",
       "      <th>47</th>\n",
       "      <td>WMIDADSRPKFRE</td>\n",
       "      <td>957.0</td>\n",
       "      <td>43.439173</td>\n",
       "      <td>2.480962</td>\n",
       "    </tr>\n",
       "    <tr>\n",
       "      <th>48</th>\n",
       "      <td>WMIDADSRPKFREL</td>\n",
       "      <td>957.5</td>\n",
       "      <td>41.558967</td>\n",
       "      <td>3.107752</td>\n",
       "    </tr>\n",
       "    <tr>\n",
       "      <th>49</th>\n",
       "      <td>IDADSRPKFRE</td>\n",
       "      <td>958.0</td>\n",
       "      <td>37.612075</td>\n",
       "      <td>1.094843</td>\n",
       "    </tr>\n",
       "    <tr>\n",
       "      <th>50</th>\n",
       "      <td>FSKMARDPQRY</td>\n",
       "      <td>973.0</td>\n",
       "      <td>30.647660</td>\n",
       "      <td>4.606961</td>\n",
       "    </tr>\n",
       "    <tr>\n",
       "      <th>51</th>\n",
       "      <td>ARDPQRY</td>\n",
       "      <td>975.0</td>\n",
       "      <td>36.069425</td>\n",
       "      <td>0.740407</td>\n",
       "    </tr>\n",
       "    <tr>\n",
       "      <th>52</th>\n",
       "      <td>LVIQGDE</td>\n",
       "      <td>982.0</td>\n",
       "      <td>75.287428</td>\n",
       "      <td>4.269761</td>\n",
       "    </tr>\n",
       "    <tr>\n",
       "      <th>53</th>\n",
       "      <td>RMHLPSPTDSNF</td>\n",
       "      <td>991.5</td>\n",
       "      <td>89.149023</td>\n",
       "      <td>1.570431</td>\n",
       "    </tr>\n",
       "    <tr>\n",
       "      <th>54</th>\n",
       "      <td>YRALM</td>\n",
       "      <td>1000.0</td>\n",
       "      <td>102.538158</td>\n",
       "      <td>6.895459</td>\n",
       "    </tr>\n",
       "    <tr>\n",
       "      <th>55</th>\n",
       "      <td>YRALMDE</td>\n",
       "      <td>1001.0</td>\n",
       "      <td>93.485923</td>\n",
       "      <td>5.474516</td>\n",
       "    </tr>\n",
       "    <tr>\n",
       "      <th>56</th>\n",
       "      <td>YRALMDEE</td>\n",
       "      <td>1001.5</td>\n",
       "      <td>93.036443</td>\n",
       "      <td>2.698117</td>\n",
       "    </tr>\n",
       "    <tr>\n",
       "      <th>57</th>\n",
       "      <td>DEEDM</td>\n",
       "      <td>1005.0</td>\n",
       "      <td>92.522076</td>\n",
       "      <td>1.046401</td>\n",
       "    </tr>\n",
       "  </tbody>\n",
       "</table>\n",
       "</div>"
      ],
      "text/plain": [
       "                      peptide  median residue number        mean        SD\n",
       "0                    LRILKETE                  707.5   55.160347  4.460996\n",
       "1                   LRILKETEF                  708.0   47.615058  3.818857\n",
       "2         LRILKETEFKKIKVLGSGA                  713.0   48.195507  1.124384\n",
       "3        LRILKETEFKKIKVLGSGAF                  713.5   48.184234  0.949346\n",
       "4                     RILKETE                  708.0   56.876976  1.165442\n",
       "5                FKKIKVLGSGAF                  717.5   63.372683  2.092084\n",
       "6                 KKIKVLGSGAF                  718.0   64.426801  1.631000\n",
       "7        GTVYKGLWIPEGEKVKIPVA                  733.5   28.016323  0.671361\n",
       "8                 ASVDNPHVCRL                  772.0   35.874272  3.409708\n",
       "9                  SVDNPHVCRL                  772.5   34.833629  2.648338\n",
       "10                   DNPHVCRL                  773.5   28.864821  3.461820\n",
       "11                      LGICL                  780.0   17.008527  5.641093\n",
       "12                     TSTVQL                  785.5   28.107292  3.013976\n",
       "13                    TSTVQLI                  786.0   44.480294  0.906271\n",
       "14             LDYVREHKDNIGSQ                  805.5   46.680548  0.593639\n",
       "15              LLNWCVQIAKGMN                  820.0   34.486531  1.489658\n",
       "16                     LNWCVQ                  817.5   12.991521  3.441738\n",
       "17                  CVQIAKGMN                  822.0    5.891360  1.059795\n",
       "18                     IAKGMN                  823.5   14.679609  0.224640\n",
       "19                    IAKGMNY                  824.0   13.939718  0.702069\n",
       "20             YLEDRRLVHRDLAA                  833.5   26.598100  4.945625\n",
       "21           YLEDRRLVHRDLAARN                  834.5   29.798020  4.068923\n",
       "22         YLEDRRLVHRDLAARNVL                  835.5   30.510826  7.321513\n",
       "23          LEDRRLVHRDLAARNVL                  836.0   27.511850  5.678125\n",
       "24                 RRLVHRDLAA                  835.5   25.630269  4.094161\n",
       "25             RRLVHRDLAARNVL                  837.5   29.926406  6.646816\n",
       "26             VKTPQHVKITDFGL                  851.5   30.181007  5.768274\n",
       "27                   AKLLGAEE                  862.5   71.108834  1.024674\n",
       "28  AKLLGAEEKEYHAEGGKVPIKWMAL                  871.0   67.699185  0.343205\n",
       "29          KEYHAEGGKVPIKWMAL                  875.0   46.392769  0.930784\n",
       "30            YHAEGGKVPIKWMAL                  876.0   48.102570  3.464061\n",
       "31             ESILHRIYTHQSDV                  890.5   19.796073  1.383087\n",
       "32           ESILHRIYTHQSDVWS                  891.5   15.748267  0.967980\n",
       "33                 HRIYTHQSDV                  892.5   26.734996  2.826596\n",
       "34               HRIYTHQSDVWS                  893.5   17.398001  1.713266\n",
       "35                     WSYGVT                  900.5    3.919593  1.775747\n",
       "36                     VWELMT                  906.5    4.881347  0.602296\n",
       "37           LMTFGSKPYDGIPASE                  914.5   48.115377  1.694954\n",
       "38            MTFGSKPYDGIPASE                  915.0   54.140948  4.057383\n",
       "39              FGSKPYDGIPASE                  916.0   62.063862  0.047488\n",
       "40                      ISSIL                  925.0   43.752815  7.636126\n",
       "41         ISSILEKGERLPQPPICT                  931.5   20.745748  1.089754\n",
       "42            ILEKGERLPQPPICT                  933.0   27.704239  0.991958\n",
       "43              EKGERLPQPPICT                  934.0   29.896983  6.106874\n",
       "44                      IDVYM                  943.0    1.775476  0.064343\n",
       "45                    IMVKCWM                  949.0    2.924889  0.241322\n",
       "46           VKCWMIDADSRPKFRE                  955.5   35.983188  2.564871\n",
       "47              WMIDADSRPKFRE                  957.0   43.439173  2.480962\n",
       "48             WMIDADSRPKFREL                  957.5   41.558967  3.107752\n",
       "49                IDADSRPKFRE                  958.0   37.612075  1.094843\n",
       "50                FSKMARDPQRY                  973.0   30.647660  4.606961\n",
       "51                    ARDPQRY                  975.0   36.069425  0.740407\n",
       "52                    LVIQGDE                  982.0   75.287428  4.269761\n",
       "53               RMHLPSPTDSNF                  991.5   89.149023  1.570431\n",
       "54                      YRALM                 1000.0  102.538158  6.895459\n",
       "55                    YRALMDE                 1001.0   93.485923  5.474516\n",
       "56                   YRALMDEE                 1001.5   93.036443  2.698117\n",
       "57                      DEEDM                 1005.0   92.522076  1.046401"
      ]
     },
     "execution_count": 33,
     "metadata": {},
     "output_type": "execute_result"
    }
   ],
   "source": [
    "n = 4\n",
    "df.drop(df.tail(n).index,inplace=True)\n",
    "df"
   ]
  },
  {
   "cell_type": "code",
   "execution_count": 4,
   "metadata": {},
   "outputs": [],
   "source": [
    "h = np.loadtxt('/Volumes/2KSPAT/Kumar/sasa_NH_EGFR_del747_750_insP.txt',delimiter=\" \")"
   ]
  },
  {
   "cell_type": "code",
   "execution_count": 12,
   "metadata": {},
   "outputs": [],
   "source": [
    "h"
   ]
  },
  {
   "cell_type": "code",
   "execution_count": 6,
   "metadata": {},
   "outputs": [
    {
     "data": {
      "text/plain": [
       "313"
      ]
     },
     "execution_count": 6,
     "metadata": {},
     "output_type": "execute_result"
    }
   ],
   "source": [
    "len(h)"
   ]
  },
  {
   "cell_type": "code",
   "execution_count": null,
   "metadata": {},
   "outputs": [],
   "source": [
    "h[:,1][1:3]"
   ]
  },
  {
   "cell_type": "code",
   "execution_count": null,
   "metadata": {},
   "outputs": [],
   "source": [
    "np.sum(h[:,1][1:3])"
   ]
  },
  {
   "cell_type": "code",
   "execution_count": 7,
   "metadata": {},
   "outputs": [],
   "source": [
    "with open('/Volumes/2KSPAT/Kumar/del747_750_insP/protein.gro') as f:\n",
    "    \n",
    "    lines = f.readlines()\n",
    "   \n",
    "\n",
    "new_lines = []    \n",
    "# Get rid of empty lines\n",
    "for line in lines:\n",
    "    # Strip whitespace, should leave nothing if empty line was just \"\\n\"\n",
    "    if not line.strip():\n",
    "        continue\n",
    "    # We got something, save it\n",
    "    else:\n",
    "        new_lines.append(line)\n",
    "        \n",
    "lines = new_lines[2:]\n",
    "\n",
    "\n",
    "y1 = [] # stores the active coordinates\n",
    "\n",
    "for i in range(0,len(lines)):\n",
    "    \n",
    "    words = lines[i].split()\n",
    "    y1.append(words[0]) \n",
    "\n",
    "             \n",
    "\n"
   ]
  },
  {
   "cell_type": "code",
   "execution_count": null,
   "metadata": {},
   "outputs": [],
   "source": []
  },
  {
   "cell_type": "code",
   "execution_count": 8,
   "metadata": {},
   "outputs": [],
   "source": [
    "res = []\n",
    "for i in y1:\n",
    "    if i not in res:\n",
    "        res.append(i)\n",
    "        "
   ]
  },
  {
   "cell_type": "code",
   "execution_count": 11,
   "metadata": {},
   "outputs": [],
   "source": [
    "res"
   ]
  },
  {
   "cell_type": "code",
   "execution_count": 10,
   "metadata": {},
   "outputs": [
    {
     "data": {
      "text/plain": [
       "'7.69160'"
      ]
     },
     "execution_count": 10,
     "metadata": {},
     "output_type": "execute_result"
    }
   ],
   "source": [
    "res.pop(-1)"
   ]
  },
  {
   "cell_type": "code",
   "execution_count": 10,
   "metadata": {},
   "outputs": [],
   "source": [
    "res"
   ]
  },
  {
   "cell_type": "code",
   "execution_count": null,
   "metadata": {},
   "outputs": [],
   "source": [
    "len(res)"
   ]
  },
  {
   "cell_type": "code",
   "execution_count": null,
   "metadata": {},
   "outputs": [],
   "source": [
    "res[0]"
   ]
  },
  {
   "cell_type": "code",
   "execution_count": null,
   "metadata": {},
   "outputs": [],
   "source": []
  },
  {
   "cell_type": "code",
   "execution_count": 12,
   "metadata": {},
   "outputs": [],
   "source": [
    "w1 = []\n",
    "w2 = []\n",
    "for i in range(0,len(res)):\n",
    "    w1.append(res[i][-3:])\n",
    "    num = \"\"\n",
    "    for cq in res[i]:\n",
    "        if cq.isdigit():\n",
    "            num = num + cq\n",
    "    w2.append(num)    "
   ]
  },
  {
   "cell_type": "code",
   "execution_count": 9,
   "metadata": {},
   "outputs": [],
   "source": [
    "w1"
   ]
  },
  {
   "cell_type": "code",
   "execution_count": 8,
   "metadata": {},
   "outputs": [],
   "source": [
    "w2 = np.array(w2)\n",
    "w2.astype(int)"
   ]
  },
  {
   "cell_type": "code",
   "execution_count": 15,
   "metadata": {},
   "outputs": [
    {
     "data": {
      "text/plain": [
       "695"
      ]
     },
     "execution_count": 15,
     "metadata": {},
     "output_type": "execute_result"
    }
   ],
   "source": [
    "h[:,0].astype(int)[0]"
   ]
  },
  {
   "cell_type": "code",
   "execution_count": 7,
   "metadata": {},
   "outputs": [],
   "source": [
    "h[:,0][i].astype(int)\n",
    "h[:,0][i].astype(int) == w2.astype(int)"
   ]
  },
  {
   "cell_type": "code",
   "execution_count": 6,
   "metadata": {},
   "outputs": [],
   "source": [
    "new_h = []\n",
    "wq = []\n",
    "for i in range(0,len(h)):\n",
    "    if h[:,0][i].astype(int) in w2.astype(int):\n",
    "        wq = [h[:,0][i].astype(int), h[:,1][i],h[:,2][i] ]\n",
    "        new_h.append(wq)\n",
    "new_h"
   ]
  },
  {
   "cell_type": "code",
   "execution_count": 18,
   "metadata": {},
   "outputs": [
    {
     "data": {
      "text/plain": [
       "313"
      ]
     },
     "execution_count": 18,
     "metadata": {},
     "output_type": "execute_result"
    }
   ],
   "source": [
    "new_h = np.array(new_h)\n",
    "len(new_h)"
   ]
  },
  {
   "cell_type": "code",
   "execution_count": 5,
   "metadata": {},
   "outputs": [],
   "source": [
    "new_h"
   ]
  },
  {
   "cell_type": "code",
   "execution_count": 20,
   "metadata": {},
   "outputs": [
    {
     "data": {
      "text/plain": [
       "array([696., 697.])"
      ]
     },
     "execution_count": 20,
     "metadata": {},
     "output_type": "execute_result"
    }
   ],
   "source": [
    "new_h[:,0][1:3]"
   ]
  },
  {
   "cell_type": "code",
   "execution_count": 21,
   "metadata": {},
   "outputs": [
    {
     "data": {
      "text/plain": [
       "313"
      ]
     },
     "execution_count": 21,
     "metadata": {},
     "output_type": "execute_result"
    }
   ],
   "source": [
    "len(res)"
   ]
  },
  {
   "cell_type": "code",
   "execution_count": null,
   "metadata": {},
   "outputs": [],
   "source": [
    "res[0][-3:]"
   ]
  },
  {
   "cell_type": "code",
   "execution_count": null,
   "metadata": {},
   "outputs": [],
   "source": [
    "res[0]"
   ]
  },
  {
   "cell_type": "code",
   "execution_count": 4,
   "metadata": {},
   "outputs": [],
   "source": [
    "w1"
   ]
  },
  {
   "cell_type": "code",
   "execution_count": 3,
   "metadata": {},
   "outputs": [],
   "source": [
    "w2"
   ]
  },
  {
   "cell_type": "code",
   "execution_count": 24,
   "metadata": {},
   "outputs": [
    {
     "data": {
      "text/plain": [
       "313"
      ]
     },
     "execution_count": 24,
     "metadata": {},
     "output_type": "execute_result"
    }
   ],
   "source": [
    "len(w2)"
   ]
  },
  {
   "cell_type": "code",
   "execution_count": 25,
   "metadata": {},
   "outputs": [],
   "source": [
    "w3 = []\n",
    "for i in range(0,len(w1)):\n",
    "    if w1[i] == 'ALA':\n",
    "        w3.append('A')\n",
    "        \n",
    "    elif w1[i] == 'ARG':\n",
    "        w3.append('R')\n",
    "        \n",
    "    elif w1[i] == 'ASN':\n",
    "        w3.append('N')\n",
    "        \n",
    "    elif w1[i] == 'ASP':\n",
    "        w3.append('D')\n",
    "        \n",
    "    elif w1[i] == 'CYS':\n",
    "        w3.append('C')\n",
    "        \n",
    "    elif w1[i] == 'GLN':\n",
    "        w3.append('Q')\n",
    "        \n",
    "    elif w1[i] == 'GLU':\n",
    "        w3.append('E')\n",
    "        \n",
    "    elif w1[i] == 'GLY':\n",
    "        w3.append('G')\n",
    "        \n",
    "    elif w1[i] == 'HIE' or w1[i] == 'HIS' :\n",
    "        w3.append('H')\n",
    "        \n",
    "    elif w1[i] == 'ILE':\n",
    "        w3.append('I')\n",
    "        \n",
    "    elif w1[i] == 'LEU':\n",
    "        w3.append('L')\n",
    "        \n",
    "    elif w1[i] == 'LYS':\n",
    "        w3.append('K')\n",
    "        \n",
    "    elif w1[i] == 'MET':\n",
    "        w3.append('M')\n",
    "        \n",
    "    elif w1[i] == 'PHE':\n",
    "        w3.append('F')\n",
    "        \n",
    "    elif w1[i] == 'PRO':\n",
    "        w3.append('P')\n",
    "        \n",
    "    elif w1[i] == 'SER':\n",
    "        w3.append('S')\n",
    "        \n",
    "    elif w1[i] == 'THR':\n",
    "        w3.append('T')\n",
    "        \n",
    "    elif w1[i] == 'TRP':\n",
    "        w3.append('W')\n",
    "        \n",
    "    elif w1[i] == 'TYR':\n",
    "        w3.append('Y')\n",
    "        \n",
    "    elif w1[i] == 'VAL':\n",
    "        w3.append('V')\n",
    "    else:\n",
    "        print(w1[i],i)\n",
    "               "
   ]
  },
  {
   "cell_type": "code",
   "execution_count": 2,
   "metadata": {},
   "outputs": [],
   "source": [
    "w3"
   ]
  },
  {
   "cell_type": "code",
   "execution_count": 27,
   "metadata": {},
   "outputs": [
    {
     "data": {
      "text/plain": [
       "313"
      ]
     },
     "execution_count": 27,
     "metadata": {},
     "output_type": "execute_result"
    }
   ],
   "source": [
    "len(w3)"
   ]
  },
  {
   "cell_type": "code",
   "execution_count": 28,
   "metadata": {},
   "outputs": [],
   "source": [
    "rs = w3[0]\n",
    "for i in range(1,len(w3)):\n",
    "    rs = rs+w3[i]\n",
    "    "
   ]
  },
  {
   "cell_type": "code",
   "execution_count": 29,
   "metadata": {},
   "outputs": [
    {
     "data": {
      "text/plain": [
       "'GGEAPNQALLRILKETEFKKIKVLGSGAFGTVYKGLWIPEGEKVKIPVAIKEPTSPKANKEILDEAYVMASVDNPHVCRLLGICLTSTVQLITQLMPFGCLLDYVREHKDNIGSQYLLNWCVQIAKGMNYLEDRRLVHRDLAARNVLVKTPQHVKITDFGLAKLLGAEEKEYHAEGGKVPIKWMALESILHRIYTHQSDVWSYGVTVWELMTFGSKPYDGIPASEISSILEKGERLPQPPICTIDVYMIMVKCWMIDADSRPKFRELIIEFSKMARDPQRYLVIQGDERMHLPSPTDSNFYRALMDEEDMDDV'"
      ]
     },
     "execution_count": 29,
     "metadata": {},
     "output_type": "execute_result"
    }
   ],
   "source": [
    "rs"
   ]
  },
  {
   "cell_type": "code",
   "execution_count": 30,
   "metadata": {},
   "outputs": [
    {
     "data": {
      "text/plain": [
       "313"
      ]
     },
     "execution_count": 30,
     "metadata": {},
     "output_type": "execute_result"
    }
   ],
   "source": [
    "len(rs)"
   ]
  },
  {
   "cell_type": "code",
   "execution_count": 31,
   "metadata": {},
   "outputs": [
    {
     "data": {
      "text/html": [
       "<div>\n",
       "<style scoped>\n",
       "    .dataframe tbody tr th:only-of-type {\n",
       "        vertical-align: middle;\n",
       "    }\n",
       "\n",
       "    .dataframe tbody tr th {\n",
       "        vertical-align: top;\n",
       "    }\n",
       "\n",
       "    .dataframe thead th {\n",
       "        text-align: right;\n",
       "    }\n",
       "</style>\n",
       "<table border=\"1\" class=\"dataframe\">\n",
       "  <thead>\n",
       "    <tr style=\"text-align: right;\">\n",
       "      <th></th>\n",
       "      <th>peptide</th>\n",
       "      <th>median residue number</th>\n",
       "      <th>mean</th>\n",
       "      <th>SD</th>\n",
       "    </tr>\n",
       "  </thead>\n",
       "  <tbody>\n",
       "    <tr>\n",
       "      <th>0</th>\n",
       "      <td>LRILKETE</td>\n",
       "      <td>707.5</td>\n",
       "      <td>55.160347</td>\n",
       "      <td>4.460996</td>\n",
       "    </tr>\n",
       "    <tr>\n",
       "      <th>1</th>\n",
       "      <td>LRILKETEF</td>\n",
       "      <td>708.0</td>\n",
       "      <td>47.615058</td>\n",
       "      <td>3.818857</td>\n",
       "    </tr>\n",
       "    <tr>\n",
       "      <th>2</th>\n",
       "      <td>LRILKETEFKKIKVLGSGA</td>\n",
       "      <td>713.0</td>\n",
       "      <td>48.195507</td>\n",
       "      <td>1.124384</td>\n",
       "    </tr>\n",
       "    <tr>\n",
       "      <th>3</th>\n",
       "      <td>LRILKETEFKKIKVLGSGAF</td>\n",
       "      <td>713.5</td>\n",
       "      <td>48.184234</td>\n",
       "      <td>0.949346</td>\n",
       "    </tr>\n",
       "    <tr>\n",
       "      <th>4</th>\n",
       "      <td>RILKETE</td>\n",
       "      <td>708.0</td>\n",
       "      <td>56.876976</td>\n",
       "      <td>1.165442</td>\n",
       "    </tr>\n",
       "    <tr>\n",
       "      <th>...</th>\n",
       "      <td>...</td>\n",
       "      <td>...</td>\n",
       "      <td>...</td>\n",
       "      <td>...</td>\n",
       "    </tr>\n",
       "    <tr>\n",
       "      <th>57</th>\n",
       "      <td>DEEDM</td>\n",
       "      <td>1005.0</td>\n",
       "      <td>92.522076</td>\n",
       "      <td>1.046401</td>\n",
       "    </tr>\n",
       "    <tr>\n",
       "      <th>58</th>\n",
       "      <td>DDVVDADE</td>\n",
       "      <td>1011.5</td>\n",
       "      <td>93.521982</td>\n",
       "      <td>2.940600</td>\n",
       "    </tr>\n",
       "    <tr>\n",
       "      <th>59</th>\n",
       "      <td>DVVDADE</td>\n",
       "      <td>1012.0</td>\n",
       "      <td>95.532127</td>\n",
       "      <td>3.419720</td>\n",
       "    </tr>\n",
       "    <tr>\n",
       "      <th>60</th>\n",
       "      <td>VVDADE</td>\n",
       "      <td>1012.5</td>\n",
       "      <td>96.589027</td>\n",
       "      <td>1.351019</td>\n",
       "    </tr>\n",
       "    <tr>\n",
       "      <th>61</th>\n",
       "      <td>YLIPQQG</td>\n",
       "      <td>1019.0</td>\n",
       "      <td>97.819026</td>\n",
       "      <td>1.908828</td>\n",
       "    </tr>\n",
       "  </tbody>\n",
       "</table>\n",
       "<p>62 rows × 4 columns</p>\n",
       "</div>"
      ],
      "text/plain": [
       "                 peptide  median residue number       mean        SD\n",
       "0               LRILKETE                  707.5  55.160347  4.460996\n",
       "1              LRILKETEF                  708.0  47.615058  3.818857\n",
       "2    LRILKETEFKKIKVLGSGA                  713.0  48.195507  1.124384\n",
       "3   LRILKETEFKKIKVLGSGAF                  713.5  48.184234  0.949346\n",
       "4                RILKETE                  708.0  56.876976  1.165442\n",
       "..                   ...                    ...        ...       ...\n",
       "57                 DEEDM                 1005.0  92.522076  1.046401\n",
       "58              DDVVDADE                 1011.5  93.521982  2.940600\n",
       "59               DVVDADE                 1012.0  95.532127  3.419720\n",
       "60                VVDADE                 1012.5  96.589027  1.351019\n",
       "61               YLIPQQG                 1019.0  97.819026  1.908828\n",
       "\n",
       "[62 rows x 4 columns]"
      ]
     },
     "execution_count": 31,
     "metadata": {},
     "output_type": "execute_result"
    }
   ],
   "source": [
    "df"
   ]
  },
  {
   "cell_type": "code",
   "execution_count": 32,
   "metadata": {},
   "outputs": [
    {
     "data": {
      "text/plain": [
       "62"
      ]
     },
     "execution_count": 32,
     "metadata": {},
     "output_type": "execute_result"
    }
   ],
   "source": [
    "len(df)"
   ]
  },
  {
   "cell_type": "code",
   "execution_count": null,
   "metadata": {},
   "outputs": [],
   "source": [
    "df['peptide'][0]"
   ]
  },
  {
   "cell_type": "code",
   "execution_count": null,
   "metadata": {},
   "outputs": [],
   "source": [
    "df['peptide']"
   ]
  },
  {
   "cell_type": "code",
   "execution_count": null,
   "metadata": {},
   "outputs": [],
   "source": []
  },
  {
   "cell_type": "code",
   "execution_count": 34,
   "metadata": {},
   "outputs": [
    {
     "name": "stdout",
     "output_type": "stream",
     "text": [
      "LRILKETE\n",
      "9\n",
      "LRILKETEF\n",
      "9\n",
      "LRILKETEFKKIKVLGSGA\n",
      "9\n",
      "LRILKETEFKKIKVLGSGAF\n",
      "9\n",
      "RILKETE\n",
      "10\n",
      "FKKIKVLGSGAF\n",
      "17\n",
      "KKIKVLGSGAF\n",
      "18\n",
      "GTVYKGLWIPEGEKVKIPVA\n",
      "29\n",
      "ASVDNPHVCRL\n",
      "69\n",
      "SVDNPHVCRL\n",
      "70\n",
      "DNPHVCRL\n",
      "72\n",
      "LGICL\n",
      "80\n",
      "TSTVQL\n",
      "85\n",
      "TSTVQLI\n",
      "85\n",
      "LDYVREHKDNIGSQ\n",
      "101\n",
      "LLNWCVQIAKGMN\n",
      "116\n",
      "LNWCVQ\n",
      "117\n",
      "CVQIAKGMN\n",
      "120\n",
      "IAKGMN\n",
      "123\n",
      "IAKGMNY\n",
      "123\n",
      "YLEDRRLVHRDLAA\n",
      "129\n",
      "YLEDRRLVHRDLAARN\n",
      "129\n",
      "YLEDRRLVHRDLAARNVL\n",
      "129\n",
      "LEDRRLVHRDLAARNVL\n",
      "130\n",
      "RRLVHRDLAA\n",
      "133\n",
      "RRLVHRDLAARNVL\n",
      "133\n",
      "VKTPQHVKITDFGL\n",
      "147\n",
      "AKLLGAEE\n",
      "161\n",
      "AKLLGAEEKEYHAEGGKVPIKWMAL\n",
      "161\n",
      "KEYHAEGGKVPIKWMAL\n",
      "169\n",
      "YHAEGGKVPIKWMAL\n",
      "171\n",
      "ESILHRIYTHQSDV\n",
      "186\n",
      "ESILHRIYTHQSDVWS\n",
      "186\n",
      "HRIYTHQSDV\n",
      "190\n",
      "HRIYTHQSDVWS\n",
      "190\n",
      "WSYGVT\n",
      "200\n",
      "VWELMT\n",
      "206\n",
      "LMTFGSKPYDGIPASE\n",
      "209\n",
      "MTFGSKPYDGIPASE\n",
      "210\n",
      "FGSKPYDGIPASE\n",
      "212\n",
      "ISSIL\n",
      "225\n",
      "ISSILEKGERLPQPPICT\n",
      "225\n",
      "ILEKGERLPQPPICT\n",
      "228\n",
      "EKGERLPQPPICT\n",
      "230\n",
      "IDVYM\n",
      "243\n",
      "IMVKCWM\n",
      "248\n",
      "VKCWMIDADSRPKFRE\n",
      "250\n",
      "WMIDADSRPKFRE\n",
      "253\n",
      "WMIDADSRPKFREL\n",
      "253\n",
      "IDADSRPKFRE\n",
      "255\n",
      "FSKMARDPQRY\n",
      "270\n",
      "ARDPQRY\n",
      "274\n",
      "LVIQGDE\n",
      "281\n",
      "RMHLPSPTDSNF\n",
      "288\n",
      "YRALM\n",
      "300\n",
      "YRALMDE\n",
      "300\n",
      "YRALMDEE\n",
      "300\n",
      "DEEDM\n",
      "305\n"
     ]
    }
   ],
   "source": [
    "import re\n",
    "w5 = []\n",
    "s_hbond = []\n",
    "w6 = []\n",
    "\n",
    "for i in range(0,len(df)):\n",
    "        a = re.search((df['peptide'][i]), rs)\n",
    "        print(df['peptide'][i])\n",
    "        print(a.start())\n",
    "        r_start = a.start()\n",
    "        r_end   = a.start() + len(df['peptide'][i]) - 1\n",
    "        s = new_h[:,1][r_start:r_end+1]\n",
    "      \n",
    "        s_hbond.append(np.sum(s)/len(s))\n",
    "        w5 = [df['median residue number'][i], s_hbond[i], new_h[:,2][i]]\n",
    "        w6.append(w5)\n",
    "    "
   ]
  },
  {
   "cell_type": "code",
   "execution_count": null,
   "metadata": {},
   "outputs": [],
   "source": [
    "s = h[:,1][r_start:r_end+1]\n",
    "s"
   ]
  },
  {
   "cell_type": "code",
   "execution_count": null,
   "metadata": {},
   "outputs": [],
   "source": [
    "df['peptide'][0]"
   ]
  },
  {
   "cell_type": "code",
   "execution_count": null,
   "metadata": {},
   "outputs": [],
   "source": [
    "len(df['peptide'][0])"
   ]
  },
  {
   "cell_type": "code",
   "execution_count": null,
   "metadata": {},
   "outputs": [],
   "source": [
    "695 + 9 + len(df['peptide'][0]) - 1"
   ]
  },
  {
   "cell_type": "code",
   "execution_count": null,
   "metadata": {},
   "outputs": [],
   "source": [
    "s_hbond    "
   ]
  },
  {
   "cell_type": "code",
   "execution_count": null,
   "metadata": {},
   "outputs": [],
   "source": [
    "df['median residue number']"
   ]
  },
  {
   "cell_type": "code",
   "execution_count": 1,
   "metadata": {},
   "outputs": [],
   "source": [
    "w6"
   ]
  },
  {
   "cell_type": "code",
   "execution_count": 36,
   "metadata": {},
   "outputs": [],
   "source": [
    "np.savetxt('/Volumes/2KSPAT/Kumar/EGFR_del747_750_insP_mean_sasa.txt',w6)"
   ]
  },
  {
   "cell_type": "code",
   "execution_count": 37,
   "metadata": {},
   "outputs": [
    {
     "data": {
      "text/plain": [
       "58"
      ]
     },
     "execution_count": 37,
     "metadata": {},
     "output_type": "execute_result"
    }
   ],
   "source": [
    "len(s_hbond)"
   ]
  },
  {
   "cell_type": "code",
   "execution_count": null,
   "metadata": {},
   "outputs": [],
   "source": [
    "len(df['median residue number'])"
   ]
  },
  {
   "cell_type": "code",
   "execution_count": null,
   "metadata": {},
   "outputs": [],
   "source": [
    "new_h[:,2]"
   ]
  },
  {
   "cell_type": "markdown",
   "metadata": {},
   "source": [
    "### PLOT "
   ]
  },
  {
   "cell_type": "code",
   "execution_count": 38,
   "metadata": {},
   "outputs": [],
   "source": [
    "wt = np.loadtxt('/Volumes/2KSPAT/Kumar/EGFR_WT_mean_sasa.txt',delimiter=\" \") \n",
    "l747p = np.loadtxt('/Volumes/2KSPAT/Kumar/EGFR_L747P_mean_sasa.txt',delimiter=\" \")\n",
    "del746_750 = np.loadtxt('/Volumes/2KSPAT/Kumar/EGFR_del746_750_mean_sasa.txt',delimiter=\" \")\n",
    "del747_753_insS = np.loadtxt('/Volumes/2KSPAT/Kumar/EGFR_del747_753_insS_mean_sasa.txt',delimiter=\" \")\n",
    "del747_750_insP = np.loadtxt('/Volumes/2KSPAT/Kumar/EGFR_del747_750_insP_mean_sasa.txt',delimiter=\" \")"
   ]
  },
  {
   "cell_type": "code",
   "execution_count": 39,
   "metadata": {},
   "outputs": [],
   "source": [
    "wt_s = wt[np.argsort(wt[:, 0])]\n",
    "l747p_s = l747p[np.argsort(l747p[:, 0])]\n",
    "del746_750_s = del746_750[np.argsort(del746_750[:, 0])]\n",
    "del747_753_insS_s = del747_753_insS[np.argsort(del747_753_insS[:, 0])]\n",
    "del747_750_insP_s = del747_750_insP[np.argsort(del747_750_insP[:, 0])]"
   ]
  },
  {
   "cell_type": "code",
   "execution_count": 40,
   "metadata": {},
   "outputs": [
    {
     "data": {
      "text/plain": [
       "['700',\n",
       " ' ',\n",
       " ' ',\n",
       " ' ',\n",
       " ' ',\n",
       " '750',\n",
       " ' ',\n",
       " ' ',\n",
       " ' ',\n",
       " ' ',\n",
       " '800',\n",
       " ' ',\n",
       " ' ',\n",
       " ' ',\n",
       " ' ',\n",
       " '850',\n",
       " ' ',\n",
       " ' ',\n",
       " ' ',\n",
       " ' ',\n",
       " '900',\n",
       " ' ',\n",
       " ' ',\n",
       " ' ',\n",
       " ' ',\n",
       " '950',\n",
       " ' ',\n",
       " ' ',\n",
       " ' ',\n",
       " ' ',\n",
       " '1000']"
      ]
     },
     "execution_count": 40,
     "metadata": {},
     "output_type": "execute_result"
    }
   ],
   "source": [
    "x = list(range(700,1010,10))\n",
    "#labels = ['Geeks1', 'Geeks2', 'Geeks3', 'Geeks4']\n",
    "j = 0\n",
    "labels = []\n",
    "for i in range(0,len(x)):\n",
    "    t = str(x[i])\n",
    "    \n",
    "    if j % 5==0:\n",
    "        labels.append(t)\n",
    "    else:\n",
    "        labels.append(' ')\n",
    "    j = j + 1\n",
    "labels\n"
   ]
  },
  {
   "cell_type": "code",
   "execution_count": 42,
   "metadata": {},
   "outputs": [
    {
     "data": {
      "image/png": "[encoded data removed]",
      "text/plain": [
       "<Figure size 1440x288 with 1 Axes>"
      ]
     },
     "metadata": {
      "needs_background": "light"
     },
     "output_type": "display_data"
    }
   ],
   "source": [
    "plt.figure(figsize=(20,4))\n",
    "plt.scatter(del746_750_s[:,0], del746_750_s[:,1],facecolor='red',marker=\"o\",s=80, label='del746_750')\n",
    "plt.scatter(del747_753_insS_s[:,0], del747_753_insS_s[:,1],facecolor='orange',marker=\"^\",s=80,label='del_747_753>S')\n",
    "plt.scatter(l747p_s[:,0], l747p_s[:,1],facecolor='cyan',marker=\"v\",s=80, label='L747P')\n",
    "plt.scatter(del747_750_insP_s[:,0], del747_750_insP_s[:,1],facecolor='blue',marker=\"s\",s=80,label='del_747_750>P')\n",
    "plt.plot(wt_s[:,0], wt_s[:,1],'--o',color='gray', markerfacecolor='gray')\n",
    "plt.scatter(wt_s[:,0], wt_s[:,1],facecolor='gray',s=80, label='WT')\n",
    "\n",
    "\n",
    "\n",
    "plt.xlabel('Residue Number',fontsize=18)\n",
    "plt.xticks(fontsize=20)\n",
    "plt.yticks(fontsize=15)\n",
    "\n",
    "\n",
    "plt.xticks(x, labels,fontsize=18)\n",
    "\n",
    "plt.ylabel('N-H SASA',fontsize=18)\n",
    "#plt.title('EGFR',fontsize=18)\n",
    "plt.legend(loc=\"upper right\",prop=dict(weight='bold'))\n",
    "plt.rcParams['axes.linewidth']=3   \n",
    "\n",
    "plt.savefig('/Volumes/2KSPAT/Kumar/1_EGFR_sasa.png', bbox_inches = 'tight', dpi = 300)\n",
    "plt.show()"
   ]
  },
  {
   "cell_type": "markdown",
   "metadata": {},
   "source": [
    "### Mutual Information plot"
   ]
  },
  {
   "cell_type": "code",
   "execution_count": null,
   "metadata": {},
   "outputs": [],
   "source": [
    "from pyitlib import discrete_random_variable as drv\n",
    "df = pd.read_excel('/Volumes/2KSPAT/Kumar/EGFR_del747_750_insP.xlsx')\n",
    "len(df['mean'])\n"
   ]
  },
  {
   "cell_type": "code",
   "execution_count": null,
   "metadata": {},
   "outputs": [],
   "source": [
    "df"
   ]
  },
  {
   "cell_type": "code",
   "execution_count": null,
   "metadata": {},
   "outputs": [],
   "source": [
    "del747_750_insP_s\n"
   ]
  },
  {
   "cell_type": "code",
   "execution_count": null,
   "metadata": {},
   "outputs": [],
   "source": [
    "len(del747_750_insP_s)"
   ]
  },
  {
   "cell_type": "code",
   "execution_count": null,
   "metadata": {},
   "outputs": [],
   "source": [
    "n = 4\n",
    "df.drop(df.tail(n).index,inplace=True)\n",
    "df"
   ]
  },
  {
   "cell_type": "code",
   "execution_count": null,
   "metadata": {},
   "outputs": [],
   "source": [
    "len(df['mean'])"
   ]
  },
  {
   "cell_type": "code",
   "execution_count": null,
   "metadata": {},
   "outputs": [],
   "source": [
    "qw = [df['median residue number'], df['mean']]\n",
    "\n",
    "qw = np.array(qw)\n"
   ]
  },
  {
   "cell_type": "code",
   "execution_count": null,
   "metadata": {},
   "outputs": [],
   "source": [
    "rtr = np.transpose(qw)"
   ]
  },
  {
   "cell_type": "code",
   "execution_count": null,
   "metadata": {},
   "outputs": [],
   "source": [
    "rtr"
   ]
  },
  {
   "cell_type": "code",
   "execution_count": null,
   "metadata": {},
   "outputs": [],
   "source": [
    "rtro = rtr[np.argsort(rtr[:,0])]\n",
    "rtro"
   ]
  },
  {
   "cell_type": "code",
   "execution_count": null,
   "metadata": {},
   "outputs": [],
   "source": [
    "del747_750_insP_s"
   ]
  },
  {
   "cell_type": "code",
   "execution_count": null,
   "metadata": {},
   "outputs": [],
   "source": [
    "\n",
    "plt.scatter(del747_750_insP_s[:,1],rtro[:,1])\n",
    "plt.xlabel('H bond occupancy',fontsize=18)\n",
    "plt.ylabel('% Exchange',fontsize=18)\n",
    "plt.text(0.55, 85, 'del747_750>P', fontsize=20)\n",
    "plt.text(0.65, 60, 'MI=5.85', fontsize=20)\n",
    "plt.xticks(fontsize=20)\n",
    "plt.yticks(fontsize=20)\n",
    "plt.savefig('/Volumes/2KSPAT/Kumar/del747_750_insP_corr.png', bbox_inches = 'tight', dpi = 300)"
   ]
  },
  {
   "cell_type": "code",
   "execution_count": null,
   "metadata": {},
   "outputs": [],
   "source": [
    "val = drv.information_mutual(del747_750_insP_s[:,1],rtro[:,1])"
   ]
  },
  {
   "cell_type": "code",
   "execution_count": null,
   "metadata": {},
   "outputs": [],
   "source": []
  },
  {
   "cell_type": "code",
   "execution_count": null,
   "metadata": {},
   "outputs": [],
   "source": []
  }
 ],
 "metadata": {
  "kernelspec": {
   "display_name": "Python 3",
   "language": "python",
   "name": "python3"
  },
  "language_info": {
   "codemirror_mode": {
    "name": "ipython",
    "version": 3
   },
   "file_extension": ".py",
   "mimetype": "text/x-python",
   "name": "python",
   "nbconvert_exporter": "python",
   "pygments_lexer": "ipython3",
   "version": "3.9.13"
  }
 },
 "nbformat": 4,
 "nbformat_minor": 4
}
