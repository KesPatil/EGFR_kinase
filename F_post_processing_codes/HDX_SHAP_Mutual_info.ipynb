{
 "cells": [
  {
   "cell_type": "markdown",
   "metadata": {},
   "source": [
    "### PLOT "
   ]
  },
  {
   "cell_type": "code",
   "execution_count": null,
   "metadata": {},
   "outputs": [],
   "source": [
    "#set your path\n",
    "wt = np.loadtxt('/Volumes/2KSPAT/Kumar/EGFR_WT_mean_hbond.txt',delimiter=\" \") \n",
    "l747p = np.loadtxt('/Volumes/2KSPAT/Kumar/EGFR_L747P_mean_hbond.txt',delimiter=\" \")\n",
    "del746_750 = np.loadtxt('/Volumes/2KSPAT/Kumar/EGFR_del746_750_mean_hbond.txt',delimiter=\" \")\n",
    "del747_753_insS = np.loadtxt('/Volumes/2KSPAT/Kumar/EGFR_del747_753_insS_mean_hbond.txt',delimiter=\" \")\n",
    "del747_750_insP = np.loadtxt('/Volumes/2KSPAT/Kumar/EGFR_del747_750_insP_mean_hbond.txt',delimiter=\" \")"
   ]
  },
  {
   "cell_type": "code",
   "execution_count": null,
   "metadata": {},
   "outputs": [],
   "source": []
  },
  {
   "cell_type": "code",
   "execution_count": null,
   "metadata": {},
   "outputs": [],
   "source": [
    "wt_s = wt[np.argsort(wt[:, 0])]\n",
    "l747p_s = l747p[np.argsort(l747p[:, 0])]\n",
    "del746_750_s = del746_750[np.argsort(del746_750[:, 0])]\n",
    "del747_753_insS_s = del747_753_insS[np.argsort(del747_753_insS[:, 0])]\n",
    "del747_750_insP_s = del747_750_insP[np.argsort(del747_750_insP[:, 0])]"
   ]
  },
  {
   "cell_type": "code",
   "execution_count": null,
   "metadata": {},
   "outputs": [],
   "source": [
    "del747_753_insS_s"
   ]
  },
  {
   "cell_type": "code",
   "execution_count": null,
   "metadata": {},
   "outputs": [],
   "source": [
    "x = list(range(700,1010,10))\n",
    "#labels = ['Geeks1', 'Geeks2', 'Geeks3', 'Geeks4']\n",
    "j = 0\n",
    "labels = []\n",
    "for i in range(0,len(x)):\n",
    "    t = str(x[i])\n",
    "    \n",
    "    if j % 5==0:\n",
    "        labels.append(t)\n",
    "    else:\n",
    "        labels.append(' ')\n",
    "    j = j + 1\n",
    "labels\n"
   ]
  },
  {
   "cell_type": "code",
   "execution_count": null,
   "metadata": {},
   "outputs": [],
   "source": [
    "plt.figure(figsize=(20,4))\n",
    "plt.scatter(del746_750_s[:,0], del746_750_s[:,1],facecolor='red',marker=\"o\",s=80, label='del746_750')\n",
    "plt.scatter(del747_753_insS_s[:,0], del747_753_insS_s[:,1],facecolor='orange',marker=\"^\",s=80,label='del_747_753>S')\n",
    "plt.scatter(l747p_s[:,0], l747p_s[:,1],facecolor='cyan',marker=\"v\",s=80, label='L747P')\n",
    "plt.scatter(del747_750_insP_s[:,0], del747_750_insP_s[:,1],facecolor='blue',marker=\"s\",s=80,label='del_747_750>P')\n",
    "plt.plot(wt_s[:,0], wt_s[:,1],'--o',color='gray', markerfacecolor='gray')\n",
    "plt.scatter(wt_s[:,0], wt_s[:,1],facecolor='gray',s=80, label='WT')\n",
    "\n",
    "\n",
    "\n",
    "plt.xlabel('Residue Number',fontsize=18)\n",
    "plt.xticks(fontsize=20)\n",
    "plt.yticks(fontsize=15)\n",
    "\n",
    "\n",
    "plt.xticks(x, labels,fontsize=18)\n",
    "\n",
    "plt.ylabel('H-bond occupancy',fontsize=18)\n",
    "#plt.title('EGFR',fontsize=18)\n",
    "plt.legend(loc=\"upper right\",prop=dict(weight='bold'))\n",
    "plt.rcParams['axes.linewidth']=3   \n",
    "\n",
    "plt.savefig('/Volumes/2KSPAT/Kumar/1_EGFR_H_bond_occupancy.png', bbox_inches = 'tight', dpi = 300)\n",
    "plt.show()"
   ]
  },
  {
   "cell_type": "markdown",
   "metadata": {},
   "source": [
    "### Mutual Information plot"
   ]
  },
  {
   "cell_type": "code",
   "execution_count": null,
   "metadata": {},
   "outputs": [],
   "source": [
    "from pyitlib import discrete_random_variable as drv\n",
    "df = pd.read_excel('/Volumes/2KSPAT/Kumar/EGFR_del747_753_insS.xlsx')\n",
    "#len(df['mean'])\n",
    "df = pd.read_excel('/Volumes/2KSPAT/Kumar/EGFR_del747_753_insS.xlsx')"
   ]
  },
  {
   "cell_type": "code",
   "execution_count": null,
   "metadata": {},
   "outputs": [],
   "source": []
  },
  {
   "cell_type": "code",
   "execution_count": null,
   "metadata": {},
   "outputs": [],
   "source": [
    "df"
   ]
  },
  {
   "cell_type": "code",
   "execution_count": null,
   "metadata": {},
   "outputs": [],
   "source": [
    "del747_753_insS_s\n"
   ]
  },
  {
   "cell_type": "code",
   "execution_count": null,
   "metadata": {},
   "outputs": [],
   "source": [
    "len(del747_753_insS_s)"
   ]
  },
  {
   "cell_type": "code",
   "execution_count": null,
   "metadata": {},
   "outputs": [],
   "source": [
    "n = 6\n",
    "df.drop(df.tail(n).index,inplace=True)\n",
    "df"
   ]
  },
  {
   "cell_type": "code",
   "execution_count": null,
   "metadata": {},
   "outputs": [],
   "source": [
    "len(df['mean'])"
   ]
  },
  {
   "cell_type": "code",
   "execution_count": null,
   "metadata": {},
   "outputs": [],
   "source": [
    "qw = [df['median residue number'], df['mean']]\n",
    "\n",
    "qw = np.array(qw)\n"
   ]
  },
  {
   "cell_type": "code",
   "execution_count": null,
   "metadata": {},
   "outputs": [],
   "source": [
    "rtr = np.transpose(qw)"
   ]
  },
  {
   "cell_type": "code",
   "execution_count": null,
   "metadata": {},
   "outputs": [],
   "source": [
    "rtr"
   ]
  },
  {
   "cell_type": "code",
   "execution_count": null,
   "metadata": {},
   "outputs": [],
   "source": [
    "rtro = rtr[np.argsort(rtr[:,0])]\n",
    "rtro"
   ]
  },
  {
   "cell_type": "code",
   "execution_count": null,
   "metadata": {},
   "outputs": [],
   "source": [
    "del747_753_insS_s"
   ]
  },
  {
   "cell_type": "code",
   "execution_count": null,
   "metadata": {},
   "outputs": [],
   "source": [
    "wq = []\n",
    "\n",
    "for i in range(0,len(rtro)):\n",
    "    d_NHp = [del747_753_insS_s[i,0], del747_753_insS_s[i,1], rtro[i,1]]\n",
    "    wq.append(d_NHp)\n",
    "        \n",
    "    "
   ]
  },
  {
   "cell_type": "code",
   "execution_count": null,
   "metadata": {},
   "outputs": [],
   "source": [
    "wq"
   ]
  },
  {
   "cell_type": "code",
   "execution_count": null,
   "metadata": {},
   "outputs": [],
   "source": [
    "np.savetxt('/Volumes/2KSPAT/Kumar/Hbond_exchange_WT.txt',wq)"
   ]
  },
  {
   "cell_type": "code",
   "execution_count": null,
   "metadata": {},
   "outputs": [],
   "source": []
  },
  {
   "cell_type": "code",
   "execution_count": null,
   "metadata": {},
   "outputs": [],
   "source": [
    "\n",
    "plt.scatter(del747_753_insS_s[:,1],rtro[:,1])\n",
    "plt.xlabel('H bond occupancy',fontsize=18)\n",
    "plt.ylabel('% Exchange',fontsize=18)\n",
    "#plt.text(0.55, 85, 'del747_750>P', fontsize=20)\n",
    "#plt.text(0.65, 60, 'MI=5.85', fontsize=20)\n",
    "plt.axvline(0.5, 0,100, color='k', linestyle='dashed')\n",
    "plt.axhline(50, 0,1, color='k', linestyle='dashed')\n",
    "plt.xticks(fontsize=20)\n",
    "plt.yticks(fontsize=20)\n",
    "plt.savefig('/Volumes/2KSPAT/Kumar/del_747_753_insS_1_corr.png', bbox_inches = 'tight', dpi = 300)"
   ]
  },
  {
   "cell_type": "code",
   "execution_count": null,
   "metadata": {},
   "outputs": [],
   "source": []
  },
  {
   "cell_type": "code",
   "execution_count": null,
   "metadata": {},
   "outputs": [],
   "source": []
  },
  {
   "cell_type": "code",
   "execution_count": null,
   "metadata": {},
   "outputs": [],
   "source": [
    "peptide = []\n",
    "p = []\n",
    "#wq = np.array(wq)\n",
    "for i in range(0,len(wq)):\n",
    "    if wq[i][1] >= 0.5 and wq[i][2] >= 50:\n",
    "        \n",
    "        peptide.append(wq[i])\n",
    "    \n"
   ]
  },
  {
   "cell_type": "code",
   "execution_count": null,
   "metadata": {},
   "outputs": [],
   "source": [
    "peptide"
   ]
  },
  {
   "cell_type": "code",
   "execution_count": null,
   "metadata": {},
   "outputs": [],
   "source": [
    "peptide = np.array(peptide)"
   ]
  },
  {
   "cell_type": "code",
   "execution_count": null,
   "metadata": {},
   "outputs": [],
   "source": [
    "peptide"
   ]
  },
  {
   "cell_type": "code",
   "execution_count": null,
   "metadata": {},
   "outputs": [],
   "source": [
    "df_new = df.loc[df['median residue number'].isin(lst.tolist())]"
   ]
  },
  {
   "cell_type": "code",
   "execution_count": null,
   "metadata": {},
   "outputs": [],
   "source": [
    "df_new"
   ]
  },
  {
   "cell_type": "code",
   "execution_count": null,
   "metadata": {},
   "outputs": [],
   "source": [
    "lst = peptide[:,0]"
   ]
  },
  {
   "cell_type": "code",
   "execution_count": null,
   "metadata": {},
   "outputs": [],
   "source": [
    "lst"
   ]
  },
  {
   "cell_type": "code",
   "execution_count": null,
   "metadata": {},
   "outputs": [],
   "source": [
    "rs"
   ]
  },
  {
   "cell_type": "code",
   "execution_count": null,
   "metadata": {},
   "outputs": [],
   "source": [
    "type(rs)"
   ]
  },
  {
   "cell_type": "code",
   "execution_count": null,
   "metadata": {},
   "outputs": [],
   "source": [
    "for i in range(0,len(df_new)):\n",
    "    print(rs.find(df_new['peptide'].tolist()[i]) + 695)\n",
    "    print(rs.find(df_new['peptide'].tolist()[i]) + 695 + len(df_new['peptide'].tolist()[i]))\n",
    "    print(\"\\n\")"
   ]
  },
  {
   "cell_type": "code",
   "execution_count": null,
   "metadata": {},
   "outputs": [],
   "source": [
    "print(rs.find(df_new['peptide'].tolist()[0]) + 695 + len(df_new['peptide'].tolist()[0]))"
   ]
  },
  {
   "cell_type": "code",
   "execution_count": null,
   "metadata": {},
   "outputs": [],
   "source": []
  },
  {
   "cell_type": "code",
   "execution_count": null,
   "metadata": {},
   "outputs": [],
   "source": [
    "df_new"
   ]
  },
  {
   "cell_type": "code",
   "execution_count": null,
   "metadata": {},
   "outputs": [],
   "source": []
  },
  {
   "cell_type": "code",
   "execution_count": 3,
   "metadata": {},
   "outputs": [],
   "source": [
    "import numpy as np\n",
    "import pandas as pd"
   ]
  },
  {
   "cell_type": "code",
   "execution_count": 4,
   "metadata": {},
   "outputs": [],
   "source": [
    "def norm_mutual(df, f1,C1):\n",
    "    f = df[f1].tolist()\n",
    "    C = df[C1].tolist()\n",
    "    NMI = (2 * mutual_inf(df,f1,C1)) / ( ent(f) + ent(C))\n",
    "    return (NMI)"
   ]
  },
  {
   "cell_type": "code",
   "execution_count": 5,
   "metadata": {},
   "outputs": [],
   "source": [
    "# Compute entropy\n",
    "# H(X)\n",
    "# X is 1 D list\n",
    "\n",
    "def ent(X):\n",
    "    X = np.array(X)\n",
    "    probs = [np.mean(X==c) for c in set(X)]\n",
    "    return entro(probs)"
   ]
  },
  {
   "cell_type": "code",
   "execution_count": null,
   "metadata": {},
   "outputs": [],
   "source": []
  },
  {
   "cell_type": "code",
   "execution_count": 6,
   "metadata": {},
   "outputs": [],
   "source": [
    "def entro(J):\n",
    "    S = 0\n",
    "    for i in range(0,len(J)):\n",
    "        if J[i] != 0:\n",
    "            S = S  + (J[i] * np.log2(J[i]))\n",
    "    \n",
    "    return (-S)"
   ]
  },
  {
   "cell_type": "code",
   "execution_count": 7,
   "metadata": {},
   "outputs": [],
   "source": [
    "# Compute Joint Entropy between2 variables\n",
    "# H(X,Y)\n",
    "\n",
    "def joint_entr (df, col1, col2):\n",
    "    \n",
    "    JP = joint_probs(df, [col1], [col2])\n",
    "    \n",
    "    joint_prob_element_list = []\n",
    "    \n",
    "    for i in range(0,len(JP)):\n",
    "        for j in range(0, len(JP.transpose())):\n",
    "            joint_prob_element_list.append(JP.iloc[i,j])\n",
    "            \n",
    "    joint_entropy = entro(joint_prob_element_list)\n",
    "    return (joint_entropy)\n",
    "            "
   ]
  },
  {
   "cell_type": "code",
   "execution_count": 8,
   "metadata": {},
   "outputs": [],
   "source": [
    "# Compute conditional entropy between 2 variables\n",
    "# H(X|Y) = H(X,Y) - H(Y)\n",
    "\n",
    "def cond_entr(df, col1,col2):\n",
    "    a = np.asarray(df[col2]).tolist()\n",
    "    \n",
    "    return (joint_entr(df, col1, col2)- ent(a))"
   ]
  },
  {
   "cell_type": "code",
   "execution_count": 9,
   "metadata": {},
   "outputs": [],
   "source": [
    "# compute mutual information between two variables\n",
    "# MI(X;Y) = H(X) - H(X|Y)\n",
    "\n",
    "def mutual_inf(df, col1, col2):\n",
    "    \n",
    "    a = np.asarray(df[col1]).tolist()\n",
    "    \n",
    "    return (ent(a) - cond_entr(df, col1, col2))"
   ]
  },
  {
   "cell_type": "code",
   "execution_count": 9,
   "metadata": {},
   "outputs": [],
   "source": [
    "# JP = joint_probs(df, [col1], [col2])\n",
    "# joint_prob_element_list = []\n",
    "    \n",
    "# for i in range(0,len(JP)):\n",
    "\n",
    "#     for j in range(0, len(JP.transpose())):\n",
    "\n",
    "#         joint_prob_element_list.append(JP.iloc[i,j])\n"
   ]
  },
  {
   "cell_type": "code",
   "execution_count": null,
   "metadata": {},
   "outputs": [],
   "source": [
    "joint_prob_element_list"
   ]
  },
  {
   "cell_type": "code",
   "execution_count": 10,
   "metadata": {},
   "outputs": [],
   "source": [
    "# Joint probs for only two variables\n",
    "\n",
    "def joint_probs(DF, index, cols):\n",
    "    all_cols = index + cols\n",
    "    N = DF.shape[0]\n",
    "    \n",
    "    joint_counts = pd.pivot_table(DF[all_cols], index = index, columns = cols, aggfunc='size').replace(np.nan,0)\n",
    "    \n",
    "    joint_prob = np.round(joint_counts/N , 3)\n",
    "    return joint_prob\n",
    "    "
   ]
  },
  {
   "cell_type": "code",
   "execution_count": null,
   "metadata": {},
   "outputs": [],
   "source": []
  },
  {
   "cell_type": "code",
   "execution_count": 11,
   "metadata": {},
   "outputs": [],
   "source": [
    "# joint probs for three variables\n",
    "\n",
    "def joint_entropy_three(df, f1,f2,C):\n",
    "    \n",
    "    prob_array = np.zeros((5,5,5)) # the number of quantiles for each variable\n",
    "    \n",
    "    joint_prob_three_element = []\n",
    "    \n",
    "    for i in range(0,prob_array.shape[0]):\n",
    "        for j in range(0,prob_array.shape[1]):\n",
    "            for k in range(0,prob_array.shape[2]):\n",
    "                if ((df[f1] == i) & (df[f2] == j) & (df[C] == k)).any():\n",
    "                    joint_prob_three_element.append(df[[f1, f2,C]].value_counts()[i,j,k]/ len(df))\n",
    "\n",
    "                    \n",
    "    return entro(joint_prob_three_element)\n",
    "                    "
   ]
  },
  {
   "cell_type": "code",
   "execution_count": null,
   "metadata": {},
   "outputs": [],
   "source": []
  },
  {
   "cell_type": "markdown",
   "metadata": {},
   "source": [
    "## Mutual information and SHAP values"
   ]
  },
  {
   "cell_type": "code",
   "execution_count": 12,
   "metadata": {},
   "outputs": [],
   "source": [
    "f = np.loadtxt('/Users/keshavpatil/Downloads/Hbond_exchange_del747_753_insS.txt')\n",
    "g = np.loadtxt('/Users/keshavpatil/Downloads/SASA_exchange_del747_753_insS.txt')"
   ]
  },
  {
   "cell_type": "code",
   "execution_count": 13,
   "metadata": {},
   "outputs": [
    {
     "data": {
      "text/html": [
       "<div>\n",
       "<style scoped>\n",
       "    .dataframe tbody tr th:only-of-type {\n",
       "        vertical-align: middle;\n",
       "    }\n",
       "\n",
       "    .dataframe tbody tr th {\n",
       "        vertical-align: top;\n",
       "    }\n",
       "\n",
       "    .dataframe thead th {\n",
       "        text-align: right;\n",
       "    }\n",
       "</style>\n",
       "<table border=\"1\" class=\"dataframe\">\n",
       "  <thead>\n",
       "    <tr style=\"text-align: right;\">\n",
       "      <th></th>\n",
       "      <th>mean_residue</th>\n",
       "      <th>Hbond</th>\n",
       "      <th>exchange</th>\n",
       "    </tr>\n",
       "  </thead>\n",
       "  <tbody>\n",
       "    <tr>\n",
       "      <th>0</th>\n",
       "      <td>707.5</td>\n",
       "      <td>0.224540</td>\n",
       "      <td>64.044353</td>\n",
       "    </tr>\n",
       "    <tr>\n",
       "      <th>1</th>\n",
       "      <td>708.5</td>\n",
       "      <td>0.195130</td>\n",
       "      <td>58.207532</td>\n",
       "    </tr>\n",
       "    <tr>\n",
       "      <th>2</th>\n",
       "      <td>713.0</td>\n",
       "      <td>0.371665</td>\n",
       "      <td>60.606467</td>\n",
       "    </tr>\n",
       "    <tr>\n",
       "      <th>3</th>\n",
       "      <td>713.5</td>\n",
       "      <td>0.353577</td>\n",
       "      <td>72.162041</td>\n",
       "    </tr>\n",
       "    <tr>\n",
       "      <th>4</th>\n",
       "      <td>716.5</td>\n",
       "      <td>0.497758</td>\n",
       "      <td>69.708583</td>\n",
       "    </tr>\n",
       "    <tr>\n",
       "      <th>...</th>\n",
       "      <td>...</td>\n",
       "      <td>...</td>\n",
       "      <td>...</td>\n",
       "    </tr>\n",
       "    <tr>\n",
       "      <th>64</th>\n",
       "      <td>991.5</td>\n",
       "      <td>0.026435</td>\n",
       "      <td>87.574362</td>\n",
       "    </tr>\n",
       "    <tr>\n",
       "      <th>65</th>\n",
       "      <td>1001.0</td>\n",
       "      <td>0.828346</td>\n",
       "      <td>104.467212</td>\n",
       "    </tr>\n",
       "    <tr>\n",
       "      <th>66</th>\n",
       "      <td>1002.5</td>\n",
       "      <td>0.581222</td>\n",
       "      <td>103.411579</td>\n",
       "    </tr>\n",
       "    <tr>\n",
       "      <th>67</th>\n",
       "      <td>1003.0</td>\n",
       "      <td>0.528429</td>\n",
       "      <td>98.228944</td>\n",
       "    </tr>\n",
       "    <tr>\n",
       "      <th>68</th>\n",
       "      <td>1005.5</td>\n",
       "      <td>0.211795</td>\n",
       "      <td>89.458503</td>\n",
       "    </tr>\n",
       "  </tbody>\n",
       "</table>\n",
       "<p>69 rows × 3 columns</p>\n",
       "</div>"
      ],
      "text/plain": [
       "    mean_residue     Hbond    exchange\n",
       "0          707.5  0.224540   64.044353\n",
       "1          708.5  0.195130   58.207532\n",
       "2          713.0  0.371665   60.606467\n",
       "3          713.5  0.353577   72.162041\n",
       "4          716.5  0.497758   69.708583\n",
       "..           ...       ...         ...\n",
       "64         991.5  0.026435   87.574362\n",
       "65        1001.0  0.828346  104.467212\n",
       "66        1002.5  0.581222  103.411579\n",
       "67        1003.0  0.528429   98.228944\n",
       "68        1005.5  0.211795   89.458503\n",
       "\n",
       "[69 rows x 3 columns]"
      ]
     },
     "execution_count": 13,
     "metadata": {},
     "output_type": "execute_result"
    }
   ],
   "source": [
    "cols = ['mean_residue', 'Hbond', 'exchange']\n",
    "df = pd.DataFrame(data=f, columns = cols)\n",
    "df"
   ]
  },
  {
   "cell_type": "code",
   "execution_count": 14,
   "metadata": {},
   "outputs": [
    {
     "data": {
      "text/html": [
       "<div>\n",
       "<style scoped>\n",
       "    .dataframe tbody tr th:only-of-type {\n",
       "        vertical-align: middle;\n",
       "    }\n",
       "\n",
       "    .dataframe tbody tr th {\n",
       "        vertical-align: top;\n",
       "    }\n",
       "\n",
       "    .dataframe thead th {\n",
       "        text-align: right;\n",
       "    }\n",
       "</style>\n",
       "<table border=\"1\" class=\"dataframe\">\n",
       "  <thead>\n",
       "    <tr style=\"text-align: right;\">\n",
       "      <th></th>\n",
       "      <th>mean_residue</th>\n",
       "      <th>SASA</th>\n",
       "      <th>exchange</th>\n",
       "    </tr>\n",
       "  </thead>\n",
       "  <tbody>\n",
       "    <tr>\n",
       "      <th>0</th>\n",
       "      <td>707.5</td>\n",
       "      <td>0.013125</td>\n",
       "      <td>64.044353</td>\n",
       "    </tr>\n",
       "    <tr>\n",
       "      <th>1</th>\n",
       "      <td>708.5</td>\n",
       "      <td>0.014625</td>\n",
       "      <td>58.207532</td>\n",
       "    </tr>\n",
       "    <tr>\n",
       "      <th>2</th>\n",
       "      <td>713.0</td>\n",
       "      <td>0.022053</td>\n",
       "      <td>60.606467</td>\n",
       "    </tr>\n",
       "    <tr>\n",
       "      <th>3</th>\n",
       "      <td>713.5</td>\n",
       "      <td>0.021250</td>\n",
       "      <td>72.162041</td>\n",
       "    </tr>\n",
       "    <tr>\n",
       "      <th>4</th>\n",
       "      <td>716.5</td>\n",
       "      <td>0.016500</td>\n",
       "      <td>69.708583</td>\n",
       "    </tr>\n",
       "    <tr>\n",
       "      <th>...</th>\n",
       "      <td>...</td>\n",
       "      <td>...</td>\n",
       "      <td>...</td>\n",
       "    </tr>\n",
       "    <tr>\n",
       "      <th>64</th>\n",
       "      <td>991.5</td>\n",
       "      <td>0.010250</td>\n",
       "      <td>87.574362</td>\n",
       "    </tr>\n",
       "    <tr>\n",
       "      <th>65</th>\n",
       "      <td>1001.0</td>\n",
       "      <td>0.000286</td>\n",
       "      <td>104.467212</td>\n",
       "    </tr>\n",
       "    <tr>\n",
       "      <th>66</th>\n",
       "      <td>1002.5</td>\n",
       "      <td>0.000300</td>\n",
       "      <td>103.411579</td>\n",
       "    </tr>\n",
       "    <tr>\n",
       "      <th>67</th>\n",
       "      <td>1003.0</td>\n",
       "      <td>0.000273</td>\n",
       "      <td>98.228944</td>\n",
       "    </tr>\n",
       "    <tr>\n",
       "      <th>68</th>\n",
       "      <td>1005.5</td>\n",
       "      <td>0.000167</td>\n",
       "      <td>89.458503</td>\n",
       "    </tr>\n",
       "  </tbody>\n",
       "</table>\n",
       "<p>69 rows × 3 columns</p>\n",
       "</div>"
      ],
      "text/plain": [
       "    mean_residue      SASA    exchange\n",
       "0          707.5  0.013125   64.044353\n",
       "1          708.5  0.014625   58.207532\n",
       "2          713.0  0.022053   60.606467\n",
       "3          713.5  0.021250   72.162041\n",
       "4          716.5  0.016500   69.708583\n",
       "..           ...       ...         ...\n",
       "64         991.5  0.010250   87.574362\n",
       "65        1001.0  0.000286  104.467212\n",
       "66        1002.5  0.000300  103.411579\n",
       "67        1003.0  0.000273   98.228944\n",
       "68        1005.5  0.000167   89.458503\n",
       "\n",
       "[69 rows x 3 columns]"
      ]
     },
     "execution_count": 14,
     "metadata": {},
     "output_type": "execute_result"
    }
   ],
   "source": [
    "cols = ['mean_residue', 'SASA', 'exchange']\n",
    "df1 = pd.DataFrame(data=g, columns = cols)\n",
    "df1"
   ]
  },
  {
   "cell_type": "code",
   "execution_count": 15,
   "metadata": {},
   "outputs": [
    {
     "data": {
      "text/plain": [
       "0     1.312500\n",
       "1     1.462500\n",
       "2     2.205263\n",
       "3     2.125000\n",
       "4     1.650000\n",
       "        ...   \n",
       "64    1.025000\n",
       "65    0.028571\n",
       "66    0.030000\n",
       "67    0.027273\n",
       "68    0.016667\n",
       "Name: SASA, Length: 69, dtype: float64"
      ]
     },
     "execution_count": 15,
     "metadata": {},
     "output_type": "execute_result"
    }
   ],
   "source": [
    "df1['SASA'] * 100"
   ]
  },
  {
   "cell_type": "code",
   "execution_count": null,
   "metadata": {},
   "outputs": [],
   "source": []
  },
  {
   "cell_type": "code",
   "execution_count": 16,
   "metadata": {},
   "outputs": [],
   "source": [
    "df = df.join(df1['SASA']*100)"
   ]
  },
  {
   "cell_type": "code",
   "execution_count": 17,
   "metadata": {},
   "outputs": [
    {
     "data": {
      "text/html": [
       "<div>\n",
       "<style scoped>\n",
       "    .dataframe tbody tr th:only-of-type {\n",
       "        vertical-align: middle;\n",
       "    }\n",
       "\n",
       "    .dataframe tbody tr th {\n",
       "        vertical-align: top;\n",
       "    }\n",
       "\n",
       "    .dataframe thead th {\n",
       "        text-align: right;\n",
       "    }\n",
       "</style>\n",
       "<table border=\"1\" class=\"dataframe\">\n",
       "  <thead>\n",
       "    <tr style=\"text-align: right;\">\n",
       "      <th></th>\n",
       "      <th>mean_residue</th>\n",
       "      <th>Hbond</th>\n",
       "      <th>exchange</th>\n",
       "      <th>SASA</th>\n",
       "    </tr>\n",
       "  </thead>\n",
       "  <tbody>\n",
       "    <tr>\n",
       "      <th>0</th>\n",
       "      <td>707.5</td>\n",
       "      <td>0.224540</td>\n",
       "      <td>64.044353</td>\n",
       "      <td>1.312500</td>\n",
       "    </tr>\n",
       "    <tr>\n",
       "      <th>1</th>\n",
       "      <td>708.5</td>\n",
       "      <td>0.195130</td>\n",
       "      <td>58.207532</td>\n",
       "      <td>1.462500</td>\n",
       "    </tr>\n",
       "    <tr>\n",
       "      <th>2</th>\n",
       "      <td>713.0</td>\n",
       "      <td>0.371665</td>\n",
       "      <td>60.606467</td>\n",
       "      <td>2.205263</td>\n",
       "    </tr>\n",
       "    <tr>\n",
       "      <th>3</th>\n",
       "      <td>713.5</td>\n",
       "      <td>0.353577</td>\n",
       "      <td>72.162041</td>\n",
       "      <td>2.125000</td>\n",
       "    </tr>\n",
       "    <tr>\n",
       "      <th>4</th>\n",
       "      <td>716.5</td>\n",
       "      <td>0.497758</td>\n",
       "      <td>69.708583</td>\n",
       "      <td>1.650000</td>\n",
       "    </tr>\n",
       "    <tr>\n",
       "      <th>...</th>\n",
       "      <td>...</td>\n",
       "      <td>...</td>\n",
       "      <td>...</td>\n",
       "      <td>...</td>\n",
       "    </tr>\n",
       "    <tr>\n",
       "      <th>64</th>\n",
       "      <td>991.5</td>\n",
       "      <td>0.026435</td>\n",
       "      <td>87.574362</td>\n",
       "      <td>1.025000</td>\n",
       "    </tr>\n",
       "    <tr>\n",
       "      <th>65</th>\n",
       "      <td>1001.0</td>\n",
       "      <td>0.828346</td>\n",
       "      <td>104.467212</td>\n",
       "      <td>0.028571</td>\n",
       "    </tr>\n",
       "    <tr>\n",
       "      <th>66</th>\n",
       "      <td>1002.5</td>\n",
       "      <td>0.581222</td>\n",
       "      <td>103.411579</td>\n",
       "      <td>0.030000</td>\n",
       "    </tr>\n",
       "    <tr>\n",
       "      <th>67</th>\n",
       "      <td>1003.0</td>\n",
       "      <td>0.528429</td>\n",
       "      <td>98.228944</td>\n",
       "      <td>0.027273</td>\n",
       "    </tr>\n",
       "    <tr>\n",
       "      <th>68</th>\n",
       "      <td>1005.5</td>\n",
       "      <td>0.211795</td>\n",
       "      <td>89.458503</td>\n",
       "      <td>0.016667</td>\n",
       "    </tr>\n",
       "  </tbody>\n",
       "</table>\n",
       "<p>69 rows × 4 columns</p>\n",
       "</div>"
      ],
      "text/plain": [
       "    mean_residue     Hbond    exchange      SASA\n",
       "0          707.5  0.224540   64.044353  1.312500\n",
       "1          708.5  0.195130   58.207532  1.462500\n",
       "2          713.0  0.371665   60.606467  2.205263\n",
       "3          713.5  0.353577   72.162041  2.125000\n",
       "4          716.5  0.497758   69.708583  1.650000\n",
       "..           ...       ...         ...       ...\n",
       "64         991.5  0.026435   87.574362  1.025000\n",
       "65        1001.0  0.828346  104.467212  0.028571\n",
       "66        1002.5  0.581222  103.411579  0.030000\n",
       "67        1003.0  0.528429   98.228944  0.027273\n",
       "68        1005.5  0.211795   89.458503  0.016667\n",
       "\n",
       "[69 rows x 4 columns]"
      ]
     },
     "execution_count": 17,
     "metadata": {},
     "output_type": "execute_result"
    }
   ],
   "source": [
    "df"
   ]
  },
  {
   "cell_type": "code",
   "execution_count": 130,
   "metadata": {},
   "outputs": [],
   "source": [
    "df_wt "
   ]
  },
  {
   "cell_type": "code",
   "execution_count": 136,
   "metadata": {},
   "outputs": [],
   "source": [
    "df_l747p "
   ]
  },
  {
   "cell_type": "code",
   "execution_count": 146,
   "metadata": {},
   "outputs": [],
   "source": [
    "df_del747_750_insP  "
   ]
  },
  {
   "cell_type": "code",
   "execution_count": 152,
   "metadata": {},
   "outputs": [],
   "source": [
    "df_del746_750 "
   ]
  },
  {
   "cell_type": "code",
   "execution_count": 158,
   "metadata": {},
   "outputs": [],
   "source": [
    "df_del747_753_insS "
   ]
  },
  {
   "cell_type": "code",
   "execution_count": 159,
   "metadata": {},
   "outputs": [
    {
     "data": {
      "text/html": [
       "<div>\n",
       "<style scoped>\n",
       "    .dataframe tbody tr th:only-of-type {\n",
       "        vertical-align: middle;\n",
       "    }\n",
       "\n",
       "    .dataframe tbody tr th {\n",
       "        vertical-align: top;\n",
       "    }\n",
       "\n",
       "    .dataframe thead th {\n",
       "        text-align: right;\n",
       "    }\n",
       "</style>\n",
       "<table border=\"1\" class=\"dataframe\">\n",
       "  <thead>\n",
       "    <tr style=\"text-align: right;\">\n",
       "      <th></th>\n",
       "      <th>mean_residue</th>\n",
       "      <th>Hbond</th>\n",
       "      <th>exchange</th>\n",
       "      <th>SASA</th>\n",
       "    </tr>\n",
       "  </thead>\n",
       "  <tbody>\n",
       "    <tr>\n",
       "      <th>0</th>\n",
       "      <td>707.5</td>\n",
       "      <td>0.224540</td>\n",
       "      <td>64.044353</td>\n",
       "      <td>1.312500</td>\n",
       "    </tr>\n",
       "    <tr>\n",
       "      <th>1</th>\n",
       "      <td>708.5</td>\n",
       "      <td>0.195130</td>\n",
       "      <td>58.207532</td>\n",
       "      <td>1.462500</td>\n",
       "    </tr>\n",
       "    <tr>\n",
       "      <th>2</th>\n",
       "      <td>713.0</td>\n",
       "      <td>0.371665</td>\n",
       "      <td>60.606467</td>\n",
       "      <td>2.205263</td>\n",
       "    </tr>\n",
       "    <tr>\n",
       "      <th>3</th>\n",
       "      <td>713.5</td>\n",
       "      <td>0.353577</td>\n",
       "      <td>72.162041</td>\n",
       "      <td>2.125000</td>\n",
       "    </tr>\n",
       "    <tr>\n",
       "      <th>4</th>\n",
       "      <td>716.5</td>\n",
       "      <td>0.497758</td>\n",
       "      <td>69.708583</td>\n",
       "      <td>1.650000</td>\n",
       "    </tr>\n",
       "    <tr>\n",
       "      <th>...</th>\n",
       "      <td>...</td>\n",
       "      <td>...</td>\n",
       "      <td>...</td>\n",
       "      <td>...</td>\n",
       "    </tr>\n",
       "    <tr>\n",
       "      <th>64</th>\n",
       "      <td>991.5</td>\n",
       "      <td>0.026435</td>\n",
       "      <td>87.574362</td>\n",
       "      <td>1.025000</td>\n",
       "    </tr>\n",
       "    <tr>\n",
       "      <th>65</th>\n",
       "      <td>1001.0</td>\n",
       "      <td>0.828346</td>\n",
       "      <td>104.467212</td>\n",
       "      <td>0.028571</td>\n",
       "    </tr>\n",
       "    <tr>\n",
       "      <th>66</th>\n",
       "      <td>1002.5</td>\n",
       "      <td>0.581222</td>\n",
       "      <td>103.411579</td>\n",
       "      <td>0.030000</td>\n",
       "    </tr>\n",
       "    <tr>\n",
       "      <th>67</th>\n",
       "      <td>1003.0</td>\n",
       "      <td>0.528429</td>\n",
       "      <td>98.228944</td>\n",
       "      <td>0.027273</td>\n",
       "    </tr>\n",
       "    <tr>\n",
       "      <th>68</th>\n",
       "      <td>1005.5</td>\n",
       "      <td>0.211795</td>\n",
       "      <td>89.458503</td>\n",
       "      <td>0.016667</td>\n",
       "    </tr>\n",
       "  </tbody>\n",
       "</table>\n",
       "<p>69 rows × 4 columns</p>\n",
       "</div>"
      ],
      "text/plain": [
       "    mean_residue     Hbond    exchange      SASA\n",
       "0          707.5  0.224540   64.044353  1.312500\n",
       "1          708.5  0.195130   58.207532  1.462500\n",
       "2          713.0  0.371665   60.606467  2.205263\n",
       "3          713.5  0.353577   72.162041  2.125000\n",
       "4          716.5  0.497758   69.708583  1.650000\n",
       "..           ...       ...         ...       ...\n",
       "64         991.5  0.026435   87.574362  1.025000\n",
       "65        1001.0  0.828346  104.467212  0.028571\n",
       "66        1002.5  0.581222  103.411579  0.030000\n",
       "67        1003.0  0.528429   98.228944  0.027273\n",
       "68        1005.5  0.211795   89.458503  0.016667\n",
       "\n",
       "[69 rows x 4 columns]"
      ]
     },
     "execution_count": 159,
     "metadata": {},
     "output_type": "execute_result"
    }
   ],
   "source": [
    "df_del747_753_insS "
   ]
  },
  {
   "cell_type": "code",
   "execution_count": 161,
   "metadata": {},
   "outputs": [
    {
     "data": {
      "text/html": [
       "<div>\n",
       "<style scoped>\n",
       "    .dataframe tbody tr th:only-of-type {\n",
       "        vertical-align: middle;\n",
       "    }\n",
       "\n",
       "    .dataframe tbody tr th {\n",
       "        vertical-align: top;\n",
       "    }\n",
       "\n",
       "    .dataframe thead th {\n",
       "        text-align: right;\n",
       "    }\n",
       "</style>\n",
       "<table border=\"1\" class=\"dataframe\">\n",
       "  <thead>\n",
       "    <tr style=\"text-align: right;\">\n",
       "      <th></th>\n",
       "      <th>mean_residue</th>\n",
       "      <th>Hbond</th>\n",
       "      <th>exchange</th>\n",
       "      <th>SASA</th>\n",
       "    </tr>\n",
       "  </thead>\n",
       "  <tbody>\n",
       "    <tr>\n",
       "      <th>0</th>\n",
       "      <td>708.5</td>\n",
       "      <td>0.187438</td>\n",
       "      <td>29.444057</td>\n",
       "      <td>1.275000</td>\n",
       "    </tr>\n",
       "    <tr>\n",
       "      <th>1</th>\n",
       "      <td>713.0</td>\n",
       "      <td>0.325807</td>\n",
       "      <td>44.194744</td>\n",
       "      <td>1.947368</td>\n",
       "    </tr>\n",
       "    <tr>\n",
       "      <th>2</th>\n",
       "      <td>717.5</td>\n",
       "      <td>0.391673</td>\n",
       "      <td>64.645086</td>\n",
       "      <td>2.408333</td>\n",
       "    </tr>\n",
       "    <tr>\n",
       "      <th>3</th>\n",
       "      <td>718.0</td>\n",
       "      <td>0.426644</td>\n",
       "      <td>66.782088</td>\n",
       "      <td>2.081818</td>\n",
       "    </tr>\n",
       "    <tr>\n",
       "      <th>4</th>\n",
       "      <td>720.5</td>\n",
       "      <td>0.469411</td>\n",
       "      <td>50.591158</td>\n",
       "      <td>1.622222</td>\n",
       "    </tr>\n",
       "    <tr>\n",
       "      <th>...</th>\n",
       "      <td>...</td>\n",
       "      <td>...</td>\n",
       "      <td>...</td>\n",
       "      <td>...</td>\n",
       "    </tr>\n",
       "    <tr>\n",
       "      <th>64</th>\n",
       "      <td>991.5</td>\n",
       "      <td>0.026435</td>\n",
       "      <td>87.574362</td>\n",
       "      <td>1.025000</td>\n",
       "    </tr>\n",
       "    <tr>\n",
       "      <th>65</th>\n",
       "      <td>1001.0</td>\n",
       "      <td>0.828346</td>\n",
       "      <td>104.467212</td>\n",
       "      <td>0.028571</td>\n",
       "    </tr>\n",
       "    <tr>\n",
       "      <th>66</th>\n",
       "      <td>1002.5</td>\n",
       "      <td>0.581222</td>\n",
       "      <td>103.411579</td>\n",
       "      <td>0.030000</td>\n",
       "    </tr>\n",
       "    <tr>\n",
       "      <th>67</th>\n",
       "      <td>1003.0</td>\n",
       "      <td>0.528429</td>\n",
       "      <td>98.228944</td>\n",
       "      <td>0.027273</td>\n",
       "    </tr>\n",
       "    <tr>\n",
       "      <th>68</th>\n",
       "      <td>1005.5</td>\n",
       "      <td>0.211795</td>\n",
       "      <td>89.458503</td>\n",
       "      <td>0.016667</td>\n",
       "    </tr>\n",
       "  </tbody>\n",
       "</table>\n",
       "<p>310 rows × 4 columns</p>\n",
       "</div>"
      ],
      "text/plain": [
       "    mean_residue     Hbond    exchange      SASA\n",
       "0          708.5  0.187438   29.444057  1.275000\n",
       "1          713.0  0.325807   44.194744  1.947368\n",
       "2          717.5  0.391673   64.645086  2.408333\n",
       "3          718.0  0.426644   66.782088  2.081818\n",
       "4          720.5  0.469411   50.591158  1.622222\n",
       "..           ...       ...         ...       ...\n",
       "64         991.5  0.026435   87.574362  1.025000\n",
       "65        1001.0  0.828346  104.467212  0.028571\n",
       "66        1002.5  0.581222  103.411579  0.030000\n",
       "67        1003.0  0.528429   98.228944  0.027273\n",
       "68        1005.5  0.211795   89.458503  0.016667\n",
       "\n",
       "[310 rows x 4 columns]"
      ]
     },
     "execution_count": 161,
     "metadata": {},
     "output_type": "execute_result"
    }
   ],
   "source": [
    "\n",
    "frames = [df_wt, df_l747p, df_del747_750_insP, df_del746_750, df_del747_753_insS]\n",
    "result = pd.concat(frames)\n",
    "result"
   ]
  },
  {
   "cell_type": "code",
   "execution_count": 19,
   "metadata": {},
   "outputs": [
    {
     "data": {
      "text/html": [
       "<div>\n",
       "<style scoped>\n",
       "    .dataframe tbody tr th:only-of-type {\n",
       "        vertical-align: middle;\n",
       "    }\n",
       "\n",
       "    .dataframe tbody tr th {\n",
       "        vertical-align: top;\n",
       "    }\n",
       "\n",
       "    .dataframe thead th {\n",
       "        text-align: right;\n",
       "    }\n",
       "</style>\n",
       "<table border=\"1\" class=\"dataframe\">\n",
       "  <thead>\n",
       "    <tr style=\"text-align: right;\">\n",
       "      <th></th>\n",
       "      <th>mean_residue</th>\n",
       "      <th>Hbond</th>\n",
       "      <th>exchange</th>\n",
       "      <th>SASA</th>\n",
       "    </tr>\n",
       "  </thead>\n",
       "  <tbody>\n",
       "    <tr>\n",
       "      <th>0</th>\n",
       "      <td>707.5</td>\n",
       "      <td>0.224540</td>\n",
       "      <td>64.044353</td>\n",
       "      <td>1.312500</td>\n",
       "    </tr>\n",
       "    <tr>\n",
       "      <th>1</th>\n",
       "      <td>708.5</td>\n",
       "      <td>0.195130</td>\n",
       "      <td>58.207532</td>\n",
       "      <td>1.462500</td>\n",
       "    </tr>\n",
       "    <tr>\n",
       "      <th>2</th>\n",
       "      <td>713.0</td>\n",
       "      <td>0.371665</td>\n",
       "      <td>60.606467</td>\n",
       "      <td>2.205263</td>\n",
       "    </tr>\n",
       "    <tr>\n",
       "      <th>3</th>\n",
       "      <td>713.5</td>\n",
       "      <td>0.353577</td>\n",
       "      <td>72.162041</td>\n",
       "      <td>2.125000</td>\n",
       "    </tr>\n",
       "    <tr>\n",
       "      <th>4</th>\n",
       "      <td>716.5</td>\n",
       "      <td>0.497758</td>\n",
       "      <td>69.708583</td>\n",
       "      <td>1.650000</td>\n",
       "    </tr>\n",
       "    <tr>\n",
       "      <th>...</th>\n",
       "      <td>...</td>\n",
       "      <td>...</td>\n",
       "      <td>...</td>\n",
       "      <td>...</td>\n",
       "    </tr>\n",
       "    <tr>\n",
       "      <th>63</th>\n",
       "      <td>988.0</td>\n",
       "      <td>0.269539</td>\n",
       "      <td>88.695572</td>\n",
       "      <td>0.715789</td>\n",
       "    </tr>\n",
       "    <tr>\n",
       "      <th>64</th>\n",
       "      <td>991.5</td>\n",
       "      <td>0.026435</td>\n",
       "      <td>87.574362</td>\n",
       "      <td>1.025000</td>\n",
       "    </tr>\n",
       "    <tr>\n",
       "      <th>65</th>\n",
       "      <td>1001.0</td>\n",
       "      <td>0.828346</td>\n",
       "      <td>104.467212</td>\n",
       "      <td>0.028571</td>\n",
       "    </tr>\n",
       "    <tr>\n",
       "      <th>66</th>\n",
       "      <td>1002.5</td>\n",
       "      <td>0.581222</td>\n",
       "      <td>103.411579</td>\n",
       "      <td>0.030000</td>\n",
       "    </tr>\n",
       "    <tr>\n",
       "      <th>67</th>\n",
       "      <td>1003.0</td>\n",
       "      <td>0.528429</td>\n",
       "      <td>98.228944</td>\n",
       "      <td>0.027273</td>\n",
       "    </tr>\n",
       "  </tbody>\n",
       "</table>\n",
       "<p>68 rows × 4 columns</p>\n",
       "</div>"
      ],
      "text/plain": [
       "    mean_residue     Hbond    exchange      SASA\n",
       "0          707.5  0.224540   64.044353  1.312500\n",
       "1          708.5  0.195130   58.207532  1.462500\n",
       "2          713.0  0.371665   60.606467  2.205263\n",
       "3          713.5  0.353577   72.162041  2.125000\n",
       "4          716.5  0.497758   69.708583  1.650000\n",
       "..           ...       ...         ...       ...\n",
       "63         988.0  0.269539   88.695572  0.715789\n",
       "64         991.5  0.026435   87.574362  1.025000\n",
       "65        1001.0  0.828346  104.467212  0.028571\n",
       "66        1002.5  0.581222  103.411579  0.030000\n",
       "67        1003.0  0.528429   98.228944  0.027273\n",
       "\n",
       "[68 rows x 4 columns]"
      ]
     },
     "execution_count": 19,
     "metadata": {},
     "output_type": "execute_result"
    }
   ],
   "source": [
    "df.drop(df.tail(1).index,inplace=True)\n",
    "df"
   ]
  },
  {
   "cell_type": "code",
   "execution_count": 20,
   "metadata": {},
   "outputs": [],
   "source": [
    "df = df.apply(lambda s:pd.qcut(s, q=10, labels =False))"
   ]
  },
  {
   "cell_type": "code",
   "execution_count": 21,
   "metadata": {},
   "outputs": [
    {
     "data": {
      "text/html": [
       "<div>\n",
       "<style scoped>\n",
       "    .dataframe tbody tr th:only-of-type {\n",
       "        vertical-align: middle;\n",
       "    }\n",
       "\n",
       "    .dataframe tbody tr th {\n",
       "        vertical-align: top;\n",
       "    }\n",
       "\n",
       "    .dataframe thead th {\n",
       "        text-align: right;\n",
       "    }\n",
       "</style>\n",
       "<table border=\"1\" class=\"dataframe\">\n",
       "  <thead>\n",
       "    <tr style=\"text-align: right;\">\n",
       "      <th></th>\n",
       "      <th>mean_residue</th>\n",
       "      <th>Hbond</th>\n",
       "      <th>exchange</th>\n",
       "      <th>SASA</th>\n",
       "    </tr>\n",
       "  </thead>\n",
       "  <tbody>\n",
       "    <tr>\n",
       "      <th>0</th>\n",
       "      <td>0</td>\n",
       "      <td>2</td>\n",
       "      <td>6</td>\n",
       "      <td>7</td>\n",
       "    </tr>\n",
       "    <tr>\n",
       "      <th>1</th>\n",
       "      <td>0</td>\n",
       "      <td>2</td>\n",
       "      <td>4</td>\n",
       "      <td>8</td>\n",
       "    </tr>\n",
       "    <tr>\n",
       "      <th>2</th>\n",
       "      <td>0</td>\n",
       "      <td>5</td>\n",
       "      <td>5</td>\n",
       "      <td>8</td>\n",
       "    </tr>\n",
       "    <tr>\n",
       "      <th>3</th>\n",
       "      <td>0</td>\n",
       "      <td>5</td>\n",
       "      <td>7</td>\n",
       "      <td>8</td>\n",
       "    </tr>\n",
       "    <tr>\n",
       "      <th>4</th>\n",
       "      <td>0</td>\n",
       "      <td>7</td>\n",
       "      <td>7</td>\n",
       "      <td>8</td>\n",
       "    </tr>\n",
       "    <tr>\n",
       "      <th>...</th>\n",
       "      <td>...</td>\n",
       "      <td>...</td>\n",
       "      <td>...</td>\n",
       "      <td>...</td>\n",
       "    </tr>\n",
       "    <tr>\n",
       "      <th>63</th>\n",
       "      <td>9</td>\n",
       "      <td>3</td>\n",
       "      <td>9</td>\n",
       "      <td>4</td>\n",
       "    </tr>\n",
       "    <tr>\n",
       "      <th>64</th>\n",
       "      <td>9</td>\n",
       "      <td>0</td>\n",
       "      <td>9</td>\n",
       "      <td>7</td>\n",
       "    </tr>\n",
       "    <tr>\n",
       "      <th>65</th>\n",
       "      <td>9</td>\n",
       "      <td>9</td>\n",
       "      <td>9</td>\n",
       "      <td>0</td>\n",
       "    </tr>\n",
       "    <tr>\n",
       "      <th>66</th>\n",
       "      <td>9</td>\n",
       "      <td>8</td>\n",
       "      <td>9</td>\n",
       "      <td>0</td>\n",
       "    </tr>\n",
       "    <tr>\n",
       "      <th>67</th>\n",
       "      <td>9</td>\n",
       "      <td>8</td>\n",
       "      <td>9</td>\n",
       "      <td>0</td>\n",
       "    </tr>\n",
       "  </tbody>\n",
       "</table>\n",
       "<p>68 rows × 4 columns</p>\n",
       "</div>"
      ],
      "text/plain": [
       "    mean_residue  Hbond  exchange  SASA\n",
       "0              0      2         6     7\n",
       "1              0      2         4     8\n",
       "2              0      5         5     8\n",
       "3              0      5         7     8\n",
       "4              0      7         7     8\n",
       "..           ...    ...       ...   ...\n",
       "63             9      3         9     4\n",
       "64             9      0         9     7\n",
       "65             9      9         9     0\n",
       "66             9      8         9     0\n",
       "67             9      8         9     0\n",
       "\n",
       "[68 rows x 4 columns]"
      ]
     },
     "execution_count": 21,
     "metadata": {},
     "output_type": "execute_result"
    }
   ],
   "source": [
    "df"
   ]
  },
  {
   "cell_type": "code",
   "execution_count": 103,
   "metadata": {},
   "outputs": [
    {
     "data": {
      "text/plain": [
       "['mean_residue', 'Hbond', 'exchange', 'SASA']"
      ]
     },
     "execution_count": 103,
     "metadata": {},
     "output_type": "execute_result"
    }
   ],
   "source": [
    "df.columns.tolist()"
   ]
  },
  {
   "cell_type": "code",
   "execution_count": 22,
   "metadata": {},
   "outputs": [
    {
     "data": {
      "text/plain": [
       "3.3193536406050494"
      ]
     },
     "execution_count": 22,
     "metadata": {},
     "output_type": "execute_result"
    }
   ],
   "source": [
    "ent(df['exchange'])"
   ]
  },
  {
   "cell_type": "code",
   "execution_count": 28,
   "metadata": {},
   "outputs": [
    {
     "data": {
      "text/plain": [
       "1.3437806414875455"
      ]
     },
     "execution_count": 28,
     "metadata": {},
     "output_type": "execute_result"
    }
   ],
   "source": [
    "col1 = 'Hbond'\n",
    "col2 = 'exchange'\n",
    "col3 = 'SASA'\n",
    "mutual_inf(df, col1, col2)"
   ]
  },
  {
   "cell_type": "code",
   "execution_count": 30,
   "metadata": {},
   "outputs": [
    {
     "data": {
      "text/plain": [
       "1.1195703427446326"
      ]
     },
     "execution_count": 30,
     "metadata": {},
     "output_type": "execute_result"
    }
   ],
   "source": [
    "mutual_inf(df, col2, col3)"
   ]
  },
  {
   "cell_type": "code",
   "execution_count": 105,
   "metadata": {},
   "outputs": [
    {
     "data": {
      "text/plain": [
       "3.3193536406050494"
      ]
     },
     "execution_count": 105,
     "metadata": {},
     "output_type": "execute_result"
    }
   ],
   "source": [
    "ent(df['Hbond'])\n"
   ]
  },
  {
   "cell_type": "code",
   "execution_count": 106,
   "metadata": {},
   "outputs": [
    {
     "data": {
      "text/plain": [
       "3.3193536406050494"
      ]
     },
     "execution_count": 106,
     "metadata": {},
     "output_type": "execute_result"
    }
   ],
   "source": [
    "ent(df['exchange'])\n"
   ]
  },
  {
   "cell_type": "markdown",
   "metadata": {},
   "source": [
    "## Normalized Mutual Information"
   ]
  },
  {
   "cell_type": "code",
   "execution_count": 107,
   "metadata": {},
   "outputs": [
    {
     "data": {
      "text/plain": [
       "0.40483202062272644"
      ]
     },
     "execution_count": 107,
     "metadata": {},
     "output_type": "execute_result"
    }
   ],
   "source": [
    "norm_mutual(df,col1,col2)"
   ]
  },
  {
   "cell_type": "code",
   "execution_count": null,
   "metadata": {},
   "outputs": [],
   "source": []
  },
  {
   "cell_type": "markdown",
   "metadata": {},
   "source": [
    "## Joint Mutual Information"
   ]
  },
  {
   "cell_type": "code",
   "execution_count": 23,
   "metadata": {},
   "outputs": [
    {
     "data": {
      "text/plain": [
       "7.500529857320032"
      ]
     },
     "execution_count": 23,
     "metadata": {},
     "output_type": "execute_result"
    }
   ],
   "source": [
    "# I(X,Y;Z) = H(Z) - H(Z|XY) = H(Z) - H(Z,X,Y) + H(X,Y)\n",
    "\n",
    "\n",
    "\n",
    "C = 'exchange'\n",
    "f1 = 'Hbond'\n",
    "f2 = 'SASA'\n",
    "H_Z = ent(df[C])\n",
    "H_X_and_Y = joint_entr(df, f1,f2)\n",
    "\n",
    "H_Z_and_X_and_Y = joint_entropy_three(df, f1, f2, C)\n",
    "\n",
    "\n",
    "I_X_with_Y_with_Z = H_Z - H_Z_and_X_and_Y + H_X_and_Y\n",
    "\n",
    "\n",
    "\n",
    "\n",
    "\n",
    "I_X_with_Y_with_Z\n",
    "\n"
   ]
  },
  {
   "cell_type": "code",
   "execution_count": 25,
   "metadata": {},
   "outputs": [
    {
     "data": {
      "text/plain": [
       "3.3193536406050494"
      ]
     },
     "execution_count": 25,
     "metadata": {},
     "output_type": "execute_result"
    }
   ],
   "source": [
    "H_Z = ent(df[C])\n",
    "H_Z "
   ]
  },
  {
   "cell_type": "code",
   "execution_count": 26,
   "metadata": {},
   "outputs": [
    {
     "data": {
      "text/plain": [
       "1.1343678961213883"
      ]
     },
     "execution_count": 26,
     "metadata": {},
     "output_type": "execute_result"
    }
   ],
   "source": [
    "H_Z_and_X_and_Y "
   ]
  },
  {
   "cell_type": "code",
   "execution_count": 27,
   "metadata": {},
   "outputs": [
    {
     "data": {
      "text/plain": [
       "5.315544112836371"
      ]
     },
     "execution_count": 27,
     "metadata": {},
     "output_type": "execute_result"
    }
   ],
   "source": [
    "H_X_and_Y"
   ]
  },
  {
   "cell_type": "code",
   "execution_count": null,
   "metadata": {},
   "outputs": [],
   "source": []
  },
  {
   "cell_type": "code",
   "execution_count": 167,
   "metadata": {},
   "outputs": [
    {
     "data": {
      "text/html": [
       "<div>\n",
       "<style scoped>\n",
       "    .dataframe tbody tr th:only-of-type {\n",
       "        vertical-align: middle;\n",
       "    }\n",
       "\n",
       "    .dataframe tbody tr th {\n",
       "        vertical-align: top;\n",
       "    }\n",
       "\n",
       "    .dataframe thead th {\n",
       "        text-align: right;\n",
       "    }\n",
       "</style>\n",
       "<table border=\"1\" class=\"dataframe\">\n",
       "  <thead>\n",
       "    <tr style=\"text-align: right;\">\n",
       "      <th></th>\n",
       "      <th>mean_residue</th>\n",
       "      <th>Hbond</th>\n",
       "      <th>exchange</th>\n",
       "      <th>SASA</th>\n",
       "    </tr>\n",
       "  </thead>\n",
       "  <tbody>\n",
       "    <tr>\n",
       "      <th>0</th>\n",
       "      <td>708.5</td>\n",
       "      <td>0.187438</td>\n",
       "      <td>29.444057</td>\n",
       "      <td>1.275000</td>\n",
       "    </tr>\n",
       "    <tr>\n",
       "      <th>1</th>\n",
       "      <td>713.0</td>\n",
       "      <td>0.325807</td>\n",
       "      <td>44.194744</td>\n",
       "      <td>1.947368</td>\n",
       "    </tr>\n",
       "    <tr>\n",
       "      <th>2</th>\n",
       "      <td>717.5</td>\n",
       "      <td>0.391673</td>\n",
       "      <td>64.645086</td>\n",
       "      <td>2.408333</td>\n",
       "    </tr>\n",
       "    <tr>\n",
       "      <th>3</th>\n",
       "      <td>718.0</td>\n",
       "      <td>0.426644</td>\n",
       "      <td>66.782088</td>\n",
       "      <td>2.081818</td>\n",
       "    </tr>\n",
       "    <tr>\n",
       "      <th>4</th>\n",
       "      <td>720.5</td>\n",
       "      <td>0.469411</td>\n",
       "      <td>50.591158</td>\n",
       "      <td>1.622222</td>\n",
       "    </tr>\n",
       "    <tr>\n",
       "      <th>...</th>\n",
       "      <td>...</td>\n",
       "      <td>...</td>\n",
       "      <td>...</td>\n",
       "      <td>...</td>\n",
       "    </tr>\n",
       "    <tr>\n",
       "      <th>64</th>\n",
       "      <td>991.5</td>\n",
       "      <td>0.026435</td>\n",
       "      <td>87.574362</td>\n",
       "      <td>1.025000</td>\n",
       "    </tr>\n",
       "    <tr>\n",
       "      <th>65</th>\n",
       "      <td>1001.0</td>\n",
       "      <td>0.828346</td>\n",
       "      <td>104.467212</td>\n",
       "      <td>0.028571</td>\n",
       "    </tr>\n",
       "    <tr>\n",
       "      <th>66</th>\n",
       "      <td>1002.5</td>\n",
       "      <td>0.581222</td>\n",
       "      <td>103.411579</td>\n",
       "      <td>0.030000</td>\n",
       "    </tr>\n",
       "    <tr>\n",
       "      <th>67</th>\n",
       "      <td>1003.0</td>\n",
       "      <td>0.528429</td>\n",
       "      <td>98.228944</td>\n",
       "      <td>0.027273</td>\n",
       "    </tr>\n",
       "    <tr>\n",
       "      <th>68</th>\n",
       "      <td>1005.5</td>\n",
       "      <td>0.211795</td>\n",
       "      <td>89.458503</td>\n",
       "      <td>0.016667</td>\n",
       "    </tr>\n",
       "  </tbody>\n",
       "</table>\n",
       "<p>310 rows × 4 columns</p>\n",
       "</div>"
      ],
      "text/plain": [
       "    mean_residue     Hbond    exchange      SASA\n",
       "0          708.5  0.187438   29.444057  1.275000\n",
       "1          713.0  0.325807   44.194744  1.947368\n",
       "2          717.5  0.391673   64.645086  2.408333\n",
       "3          718.0  0.426644   66.782088  2.081818\n",
       "4          720.5  0.469411   50.591158  1.622222\n",
       "..           ...       ...         ...       ...\n",
       "64         991.5  0.026435   87.574362  1.025000\n",
       "65        1001.0  0.828346  104.467212  0.028571\n",
       "66        1002.5  0.581222  103.411579  0.030000\n",
       "67        1003.0  0.528429   98.228944  0.027273\n",
       "68        1005.5  0.211795   89.458503  0.016667\n",
       "\n",
       "[310 rows x 4 columns]"
      ]
     },
     "execution_count": 167,
     "metadata": {},
     "output_type": "execute_result"
    }
   ],
   "source": [
    "result"
   ]
  },
  {
   "cell_type": "code",
   "execution_count": 172,
   "metadata": {},
   "outputs": [],
   "source": [
    "result = result.dropna()"
   ]
  },
  {
   "cell_type": "code",
   "execution_count": 174,
   "metadata": {},
   "outputs": [
    {
     "data": {
      "text/html": [
       "<div>\n",
       "<style scoped>\n",
       "    .dataframe tbody tr th:only-of-type {\n",
       "        vertical-align: middle;\n",
       "    }\n",
       "\n",
       "    .dataframe tbody tr th {\n",
       "        vertical-align: top;\n",
       "    }\n",
       "\n",
       "    .dataframe thead th {\n",
       "        text-align: right;\n",
       "    }\n",
       "</style>\n",
       "<table border=\"1\" class=\"dataframe\">\n",
       "  <thead>\n",
       "    <tr style=\"text-align: right;\">\n",
       "      <th></th>\n",
       "      <th>mean_residue</th>\n",
       "      <th>Hbond</th>\n",
       "      <th>exchange</th>\n",
       "      <th>SASA</th>\n",
       "    </tr>\n",
       "  </thead>\n",
       "  <tbody>\n",
       "    <tr>\n",
       "      <th>0</th>\n",
       "      <td>708.5</td>\n",
       "      <td>0.187438</td>\n",
       "      <td>29.444057</td>\n",
       "      <td>1.275000</td>\n",
       "    </tr>\n",
       "    <tr>\n",
       "      <th>1</th>\n",
       "      <td>713.0</td>\n",
       "      <td>0.325807</td>\n",
       "      <td>44.194744</td>\n",
       "      <td>1.947368</td>\n",
       "    </tr>\n",
       "    <tr>\n",
       "      <th>2</th>\n",
       "      <td>717.5</td>\n",
       "      <td>0.391673</td>\n",
       "      <td>64.645086</td>\n",
       "      <td>2.408333</td>\n",
       "    </tr>\n",
       "    <tr>\n",
       "      <th>3</th>\n",
       "      <td>718.0</td>\n",
       "      <td>0.426644</td>\n",
       "      <td>66.782088</td>\n",
       "      <td>2.081818</td>\n",
       "    </tr>\n",
       "    <tr>\n",
       "      <th>4</th>\n",
       "      <td>720.5</td>\n",
       "      <td>0.469411</td>\n",
       "      <td>50.591158</td>\n",
       "      <td>1.622222</td>\n",
       "    </tr>\n",
       "    <tr>\n",
       "      <th>...</th>\n",
       "      <td>...</td>\n",
       "      <td>...</td>\n",
       "      <td>...</td>\n",
       "      <td>...</td>\n",
       "    </tr>\n",
       "    <tr>\n",
       "      <th>64</th>\n",
       "      <td>991.5</td>\n",
       "      <td>0.026435</td>\n",
       "      <td>87.574362</td>\n",
       "      <td>1.025000</td>\n",
       "    </tr>\n",
       "    <tr>\n",
       "      <th>65</th>\n",
       "      <td>1001.0</td>\n",
       "      <td>0.828346</td>\n",
       "      <td>104.467212</td>\n",
       "      <td>0.028571</td>\n",
       "    </tr>\n",
       "    <tr>\n",
       "      <th>66</th>\n",
       "      <td>1002.5</td>\n",
       "      <td>0.581222</td>\n",
       "      <td>103.411579</td>\n",
       "      <td>0.030000</td>\n",
       "    </tr>\n",
       "    <tr>\n",
       "      <th>67</th>\n",
       "      <td>1003.0</td>\n",
       "      <td>0.528429</td>\n",
       "      <td>98.228944</td>\n",
       "      <td>0.027273</td>\n",
       "    </tr>\n",
       "    <tr>\n",
       "      <th>68</th>\n",
       "      <td>1005.5</td>\n",
       "      <td>0.211795</td>\n",
       "      <td>89.458503</td>\n",
       "      <td>0.016667</td>\n",
       "    </tr>\n",
       "  </tbody>\n",
       "</table>\n",
       "<p>309 rows × 4 columns</p>\n",
       "</div>"
      ],
      "text/plain": [
       "    mean_residue     Hbond    exchange      SASA\n",
       "0          708.5  0.187438   29.444057  1.275000\n",
       "1          713.0  0.325807   44.194744  1.947368\n",
       "2          717.5  0.391673   64.645086  2.408333\n",
       "3          718.0  0.426644   66.782088  2.081818\n",
       "4          720.5  0.469411   50.591158  1.622222\n",
       "..           ...       ...         ...       ...\n",
       "64         991.5  0.026435   87.574362  1.025000\n",
       "65        1001.0  0.828346  104.467212  0.028571\n",
       "66        1002.5  0.581222  103.411579  0.030000\n",
       "67        1003.0  0.528429   98.228944  0.027273\n",
       "68        1005.5  0.211795   89.458503  0.016667\n",
       "\n",
       "[309 rows x 4 columns]"
      ]
     },
     "execution_count": 174,
     "metadata": {},
     "output_type": "execute_result"
    }
   ],
   "source": [
    "result"
   ]
  },
  {
   "cell_type": "code",
   "execution_count": 178,
   "metadata": {},
   "outputs": [
    {
     "name": "stderr",
     "output_type": "stream",
     "text": [
      "\n",
      "A value is trying to be set on a copy of a slice from a DataFrame\n",
      "\n",
      "See the caveats in the documentation: https://pandas.pydata.org/pandas-docs/stable/user_guide/indexing.html#returning-a-view-versus-a-copy\n"
     ]
    }
   ],
   "source": [
    "result.rename(columns = {'Hbond':'Hbond occupancy'}, inplace = True)"
   ]
  },
  {
   "cell_type": "code",
   "execution_count": 179,
   "metadata": {},
   "outputs": [
    {
     "data": {
      "text/html": [
       "<div>\n",
       "<style scoped>\n",
       "    .dataframe tbody tr th:only-of-type {\n",
       "        vertical-align: middle;\n",
       "    }\n",
       "\n",
       "    .dataframe tbody tr th {\n",
       "        vertical-align: top;\n",
       "    }\n",
       "\n",
       "    .dataframe thead th {\n",
       "        text-align: right;\n",
       "    }\n",
       "</style>\n",
       "<table border=\"1\" class=\"dataframe\">\n",
       "  <thead>\n",
       "    <tr style=\"text-align: right;\">\n",
       "      <th></th>\n",
       "      <th>mean_residue</th>\n",
       "      <th>Hbond occupancy</th>\n",
       "      <th>exchange</th>\n",
       "      <th>SASA</th>\n",
       "    </tr>\n",
       "  </thead>\n",
       "  <tbody>\n",
       "    <tr>\n",
       "      <th>0</th>\n",
       "      <td>708.5</td>\n",
       "      <td>0.187438</td>\n",
       "      <td>29.444057</td>\n",
       "      <td>1.275000</td>\n",
       "    </tr>\n",
       "    <tr>\n",
       "      <th>1</th>\n",
       "      <td>713.0</td>\n",
       "      <td>0.325807</td>\n",
       "      <td>44.194744</td>\n",
       "      <td>1.947368</td>\n",
       "    </tr>\n",
       "    <tr>\n",
       "      <th>2</th>\n",
       "      <td>717.5</td>\n",
       "      <td>0.391673</td>\n",
       "      <td>64.645086</td>\n",
       "      <td>2.408333</td>\n",
       "    </tr>\n",
       "    <tr>\n",
       "      <th>3</th>\n",
       "      <td>718.0</td>\n",
       "      <td>0.426644</td>\n",
       "      <td>66.782088</td>\n",
       "      <td>2.081818</td>\n",
       "    </tr>\n",
       "    <tr>\n",
       "      <th>4</th>\n",
       "      <td>720.5</td>\n",
       "      <td>0.469411</td>\n",
       "      <td>50.591158</td>\n",
       "      <td>1.622222</td>\n",
       "    </tr>\n",
       "    <tr>\n",
       "      <th>...</th>\n",
       "      <td>...</td>\n",
       "      <td>...</td>\n",
       "      <td>...</td>\n",
       "      <td>...</td>\n",
       "    </tr>\n",
       "    <tr>\n",
       "      <th>64</th>\n",
       "      <td>991.5</td>\n",
       "      <td>0.026435</td>\n",
       "      <td>87.574362</td>\n",
       "      <td>1.025000</td>\n",
       "    </tr>\n",
       "    <tr>\n",
       "      <th>65</th>\n",
       "      <td>1001.0</td>\n",
       "      <td>0.828346</td>\n",
       "      <td>104.467212</td>\n",
       "      <td>0.028571</td>\n",
       "    </tr>\n",
       "    <tr>\n",
       "      <th>66</th>\n",
       "      <td>1002.5</td>\n",
       "      <td>0.581222</td>\n",
       "      <td>103.411579</td>\n",
       "      <td>0.030000</td>\n",
       "    </tr>\n",
       "    <tr>\n",
       "      <th>67</th>\n",
       "      <td>1003.0</td>\n",
       "      <td>0.528429</td>\n",
       "      <td>98.228944</td>\n",
       "      <td>0.027273</td>\n",
       "    </tr>\n",
       "    <tr>\n",
       "      <th>68</th>\n",
       "      <td>1005.5</td>\n",
       "      <td>0.211795</td>\n",
       "      <td>89.458503</td>\n",
       "      <td>0.016667</td>\n",
       "    </tr>\n",
       "  </tbody>\n",
       "</table>\n",
       "<p>309 rows × 4 columns</p>\n",
       "</div>"
      ],
      "text/plain": [
       "    mean_residue  Hbond occupancy    exchange      SASA\n",
       "0          708.5         0.187438   29.444057  1.275000\n",
       "1          713.0         0.325807   44.194744  1.947368\n",
       "2          717.5         0.391673   64.645086  2.408333\n",
       "3          718.0         0.426644   66.782088  2.081818\n",
       "4          720.5         0.469411   50.591158  1.622222\n",
       "..           ...              ...         ...       ...\n",
       "64         991.5         0.026435   87.574362  1.025000\n",
       "65        1001.0         0.828346  104.467212  0.028571\n",
       "66        1002.5         0.581222  103.411579  0.030000\n",
       "67        1003.0         0.528429   98.228944  0.027273\n",
       "68        1005.5         0.211795   89.458503  0.016667\n",
       "\n",
       "[309 rows x 4 columns]"
      ]
     },
     "execution_count": 179,
     "metadata": {},
     "output_type": "execute_result"
    }
   ],
   "source": [
    "result"
   ]
  },
  {
   "cell_type": "markdown",
   "metadata": {},
   "source": [
    "## SHAP Values "
   ]
  },
  {
   "cell_type": "code",
   "execution_count": 180,
   "metadata": {},
   "outputs": [
    {
     "data": {
      "text/plain": [
       "DecisionTreeRegressor(max_depth=6, random_state=0)"
      ]
     },
     "execution_count": 180,
     "metadata": {},
     "output_type": "execute_result"
    }
   ],
   "source": [
    "import pandas as pd\n",
    "import numpy as np\n",
    "np.random.seed(0)\n",
    "import matplotlib.pyplot as plt\n",
    "#df = pd.read_csv('/Users/keshavpatil/Downloads/winequality-red.csv') # Load the data\n",
    "from sklearn.model_selection import train_test_split\n",
    "from sklearn import preprocessing\n",
    "from sklearn.ensemble import RandomForestRegressor\n",
    "from sklearn.tree import DecisionTreeRegressor\n",
    "# The target variable is 'quality'.\n",
    "Y = result['exchange']\n",
    "X =  result[['Hbond occupancy', 'SASA']]\n",
    "# Split the data into train and test data:\n",
    "X_train, X_test, Y_train, Y_test = train_test_split(X, Y, test_size = 0.2)\n",
    "# Build the model with the random forest regression algorithm:\n",
    "model = DecisionTreeRegressor(max_depth=6, random_state=0)\n",
    "model.fit(X_train, Y_train)"
   ]
  },
  {
   "cell_type": "code",
   "execution_count": 176,
   "metadata": {},
   "outputs": [
    {
     "data": {
      "image/png": "[encoded data removed]",
      "text/plain": [
       "<Figure size 576x165.6 with 1 Axes>"
      ]
     },
     "metadata": {
      "needs_background": "light"
     },
     "output_type": "display_data"
    }
   ],
   "source": [
    "import shap\n",
    "shap_values = shap.TreeExplainer(model).shap_values(X_train)\n",
    "shap.summary_plot(shap_values, X_train, plot_type=\"bar\")"
   ]
  },
  {
   "cell_type": "code",
   "execution_count": 188,
   "metadata": {},
   "outputs": [
    {
     "data": {
      "image/png": "[encoded data removed]",
      "text/plain": [
       "<Figure size 576x165.6 with 2 Axes>"
      ]
     },
     "metadata": {
      "needs_background": "light"
     },
     "output_type": "display_data"
    }
   ],
   "source": [
    "import matplotlib.pyplot as plt\n",
    "f = plt.figure()\n",
    "shap.summary_plot(shap_values, X_train, show=False)\n",
    "plt.gcf().axes[-1].set_aspect(100)\n",
    "plt.gcf().axes[-1].set_box_aspect(10)\n",
    "f.savefig(\"/Users/keshavpatil/Downloads/summary_plot1.png\", bbox_inches='tight', dpi = 300)"
   ]
  },
  {
   "cell_type": "code",
   "execution_count": null,
   "metadata": {},
   "outputs": [],
   "source": []
  }
 ],
 "metadata": {
  "kernelspec": {
   "display_name": "research",
   "language": "python",
   "name": "myenv"
  },
  "language_info": {
   "codemirror_mode": {
    "name": "ipython",
    "version": 3
   },
   "file_extension": ".py",
   "mimetype": "text/x-python",
   "name": "python",
   "nbconvert_exporter": "python",
   "pygments_lexer": "ipython3",
   "version": "3.9.7"
  }
 },
 "nbformat": 4,
 "nbformat_minor": 4
}
